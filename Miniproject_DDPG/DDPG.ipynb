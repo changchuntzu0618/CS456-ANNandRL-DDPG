{
  "cells": [
    {
      "attachments": {},
      "cell_type": "markdown",
      "metadata": {
        "colab_type": "text",
        "id": "view-in-github"
      },
      "source": [
        "<a href=\"https://colab.research.google.com/github/changchuntzu0618/CS456-ANNandRL-DDPG/blob/Jessica/Miniproject_DDPG/DDPG.ipynb\" target=\"_parent\"><img src=\"https://colab.research.google.com/assets/colab-badge.svg\" alt=\"Open In Colab\"/></a>"
      ]
    },
    {
      "cell_type": "code",
      "execution_count": null,
      "metadata": {
        "colab": {
          "base_uri": "https://localhost:8080/"
        },
        "id": "UTL8MNKRboey",
        "outputId": "180f67c0-5957-4d43-f2c9-ab75ca0df629"
      },
      "outputs": [
        {
          "name": "stdout",
          "output_type": "stream",
          "text": [
            "The autoreload extension is already loaded. To reload it, use:\n",
            "  %reload_ext autoreload\n"
          ]
        }
      ],
      "source": [
        "%load_ext autoreload\n",
        "%autoreload 2"
      ]
    },
    {
      "cell_type": "code",
      "execution_count": null,
      "metadata": {
        "colab": {
          "base_uri": "https://localhost:8080/"
        },
        "id": "atzSv8sqhUXk",
        "outputId": "afcf19e5-4154-446b-fff2-e4610d9aa809"
      },
      "outputs": [
        {
          "name": "stdout",
          "output_type": "stream",
          "text": [
            "Drive already mounted at /content/gdrive; to attempt to forcibly remount, call drive.mount(\"/content/gdrive\", force_remount=True).\n"
          ]
        }
      ],
      "source": [
        "from google.colab import drive\n",
        "drive.mount('/content/gdrive')"
      ]
    },
    {
      "cell_type": "code",
      "execution_count": null,
      "metadata": {
        "colab": {
          "base_uri": "https://localhost:8080/"
        },
        "id": "4DMkeNSvlamO",
        "outputId": "3be2b3a2-a3fc-49b2-f702-cbf04ff0ebd9"
      },
      "outputs": [
        {
          "name": "stdout",
          "output_type": "stream",
          "text": [
            "/content/gdrive/MyDrive/Colab Notebooks/CS456-ANNandRL-DDPG-master/Miniproject_DDPG\n"
          ]
        }
      ],
      "source": [
        "cd /content/gdrive/MyDrive/Colab Notebooks/CS456-ANNandRL-DDPG-master/Miniproject_DDPG"
      ]
    },
    {
      "cell_type": "code",
      "execution_count": 1,
      "metadata": {
        "id": "hmOsTTMpboe2"
      },
      "outputs": [],
      "source": [
        "import gym\n",
        "from helpers import NormalizedEnv, RandomAgent\n",
        "import numpy as np\n",
        "import matplotlib.pyplot as plt\n",
        "import random\n",
        "import torch\n",
        "import torch.nn as nn\n",
        "import torch.nn.functional as F\n",
        "import copy\n",
        "from mpl_toolkits.mplot3d import Axes3D\n",
        "from pylab import*\n",
        "import os\n",
        "from tqdm import tqdm\n",
        "# set colab to Trueif using google colab\n",
        "colab=False"
      ]
    },
    {
      "attachments": {},
      "cell_type": "markdown",
      "metadata": {
        "id": "DpmRvcOeboe3"
      },
      "source": [
        "## 3. Heuristic Policy"
      ]
    },
    {
      "cell_type": "code",
      "execution_count": 54,
      "metadata": {
        "id": "h9WETaY1boe5"
      },
      "outputs": [],
      "source": [
        "# Implement a heuristic policy\n",
        "class HeuristicPendulumAgent():\n",
        "    def __init__(self, env):\n",
        "        self.state_size = env.observation_space.shape[0]\n",
        "        self.action_size = env.action_space.shape[0]\n",
        "        self.agent_name='HeuristicPendulumAgent'\n",
        "\n",
        "    def get_agent_name(self):\n",
        "        return self.agent_name\n",
        "        \n",
        "\n",
        "    def compute_action(self, state,fix_torque=1):\n",
        "        #  print('fix_torque',fix_torque)\n",
        "         # When the pendulum is in the lower half of the domain (x<0)\n",
        "         if state[0]<0:\n",
        "             # applies a fixed torque in the same direction as the pendulum’s angular velocity\n",
        "             return fix_torque*np.sign(state[2])\n",
        "         # When the pendulum is in the higher half of the domain (x>0)\n",
        "         else:\n",
        "             # applies a fixed torque in the  opposite direction as the pendulum’s angular velocity\n",
        "             return -1*fix_torque*np.sign(state[2])"
      ]
    },
    {
      "cell_type": "code",
      "execution_count": 55,
      "metadata": {
        "id": "OFL43GmVboe7"
      },
      "outputs": [],
      "source": [
        "def DoState(env,agent,observation,total_reward_per_episode,agent_name='RandomAgent',fix_torque=0.1):\n",
        "    if agent_name=='HeuristicPendulumAgent':\n",
        "        action = agent.compute_action(observation,fix_torque)\n",
        "    else:\n",
        "        action = agent.compute_action(observation)\n",
        "    # print('action:',action)\n",
        "    normalized_env = NormalizedEnv(env)\n",
        "    normalized_action = normalized_env.action(action)\n",
        "    # print('normalized_action:',normalized_action)\n",
        "    observation, reward, terminated, truncated, info = env.step(normalized_action)\n",
        "    # print('observation:',observation)\n",
        "    # print('reward:',reward)\n",
        "    # print('terminated:',terminated)\n",
        "    total_reward_per_episode += reward\n",
        "    # print('total_reward:',total_reward)\n",
        "    if terminated or truncated:\n",
        "        observation, info = env.reset()\n",
        "\n",
        "    return observation, info, total_reward_per_episode\n",
        "\n",
        "def DoEpisode(env,agent,agent_name='RandomAgent',fix_torque=0.1,num_state=200) :\n",
        "    observation, info = env.reset()\n",
        "    total_reward_per_episode=0\n",
        "    for _ in range(num_state):\n",
        "        observation, info, total_reward_per_episode=DoState(env,agent,observation,total_reward_per_episode,agent_name,fix_torque)\n",
        "        # print(\"total_reward_per_episode:\",total_reward_per_episode)\n",
        "    return total_reward_per_episode"
      ]
    },
    {
      "cell_type": "code",
      "execution_count": 56,
      "metadata": {
        "id": "x9GSF7vRboe9"
      },
      "outputs": [
        {
          "name": "stdout",
          "output_type": "stream",
          "text": [
            "total_reward: -627.2265883532475\n",
            "average_reward: -627.2265883532475\n",
            "total_reward: -1266.1454374935033\n",
            "average_reward: -633.0727187467517\n",
            "total_reward: -2624.168806404506\n",
            "average_reward: -874.7229354681687\n",
            "total_reward: -3811.934606873653\n",
            "average_reward: -952.9836517184133\n",
            "total_reward: -4776.95010503538\n",
            "average_reward: -955.390021007076\n",
            "total_reward: -5405.185016278633\n",
            "average_reward: -900.8641693797722\n",
            "total_reward: -6460.005788445832\n",
            "average_reward: -922.857969777976\n",
            "total_reward: -7929.938492438404\n",
            "average_reward: -991.2423115548005\n",
            "total_reward: -9478.839021752141\n",
            "average_reward: -1053.204335750238\n",
            "total_reward: -10855.066197977749\n",
            "average_reward: -1085.5066197977749\n",
            "total_reward: -989.0706840291793\n",
            "average_reward: -989.0706840291793\n",
            "total_reward: -2151.2731509591063\n",
            "average_reward: -1075.6365754795531\n",
            "total_reward: -3610.950216582076\n",
            "average_reward: -1203.6500721940254\n",
            "total_reward: -5068.594862489471\n",
            "average_reward: -1267.1487156223677\n",
            "total_reward: -6512.420546813386\n",
            "average_reward: -1302.4841093626771\n",
            "total_reward: -8255.669621468964\n",
            "average_reward: -1375.9449369114939\n",
            "total_reward: -9114.511826262009\n",
            "average_reward: -1302.0731180374298\n",
            "total_reward: -10743.128582546635\n",
            "average_reward: -1342.8910728183293\n",
            "total_reward: -12280.061438030205\n",
            "average_reward: -1364.451270892245\n",
            "total_reward: -13893.564186787218\n",
            "average_reward: -1389.3564186787219\n"
          ]
        },
        {
          "data": {
            "image/png": "[encoded data removed]",
            "text/plain": [
              "<Figure size 640x480 with 1 Axes>"
            ]
          },
          "metadata": {},
          "output_type": "display_data"
        }
      ],
      "source": [
        "env = gym.make(\"Pendulum-v1\")\n",
        "num_episode=10\n",
        "# Part 3: Report the average cumulative reward obtained by the heuristic policy\n",
        "# draw plot to compare the average cumulative reward obtained by the heuristic policy \n",
        "# with the reward of the random agent\n",
        "list_average_reward_HeuristicAgent=[]\n",
        "total_episodes_reward_HeuristicAgent = 0\n",
        "for episode in range(num_episode):\n",
        "    agent = HeuristicPendulumAgent(env)\n",
        "    total_reward_per_episode=DoEpisode(env, agent,agent.get_agent_name())\n",
        "    total_episodes_reward_HeuristicAgent += total_reward_per_episode\n",
        "    print('total_reward:', total_episodes_reward_HeuristicAgent)\n",
        "    average_reward = total_episodes_reward_HeuristicAgent / (episode + 1)\n",
        "    print('average_reward:', average_reward)\n",
        "    list_average_reward_HeuristicAgent.append(average_reward)\n",
        "\n",
        "list_average_reward_RandomAgent=[]\n",
        "total_episodes_reward_RandomAgent = 0\n",
        "for episode in range(num_episode):\n",
        "    agent = RandomAgent(env)\n",
        "    total_reward_per_episode=DoEpisode(env, agent)\n",
        "    total_episodes_reward_RandomAgent += total_reward_per_episode\n",
        "    print('total_reward:', total_episodes_reward_RandomAgent)\n",
        "    average_reward = total_episodes_reward_RandomAgent / (episode + 1)\n",
        "    print('average_reward:', average_reward)\n",
        "    list_average_reward_RandomAgent.append(average_reward)\n",
        "\n",
        "list_number_episodes = np.linspace(1,10,num=10)\n",
        "\n",
        "plt.plot(list_number_episodes,list_average_reward_HeuristicAgent,label= 'Average cumulative reward obtained by the heuristic policy')\n",
        "plt.plot(list_number_episodes,list_average_reward_RandomAgent,label= 'Average cumulative reward obtained by the random agent')\n",
        "plt.xlabel('Number of episodes')\n",
        "plt.ylabel('Average cumulative reward')\n",
        "plt.legend()\n",
        "plt.title('Compare the average cumulative reward obtained by the heuristic policy with the one obtained by the random agent')\n",
        "plt.show()\n",
        "env.close()"
      ]
    },
    {
      "cell_type": "code",
      "execution_count": null,
      "metadata": {
        "id": "nTTwTwH_boe_"
      },
      "outputs": [],
      "source": [
        "# Part 3: Report the average cumulative reward obtained by the heuristic policy\n",
        "# draw plot to show the impact of different amplitude of the fixed torque have on the reward\n",
        "env = gym.make(\"Pendulum-v1\")\n",
        "num_episode=10\n",
        "list_last_average_reward=[]\n",
        "list_fix_torque=np.linspace(0.1, 2.0, num=20)\n",
        "print(list_fix_torque)\n",
        "for fix_torque in list_fix_torque:\n",
        "    total_episodes_reward_HeuristicAgent=0\n",
        "    for episode in range(num_episode):\n",
        "        agent = HeuristicPendulumAgent(env)\n",
        "        total_reward_per_episode=DoEpisode(env,agent,agent.get_agent_name(),fix_torque)\n",
        "        total_episodes_reward_HeuristicAgent += total_reward_per_episode\n",
        "        print('total_reward:', total_episodes_reward_HeuristicAgent)\n",
        "        average_reward = total_episodes_reward_HeuristicAgent / (episode + 1)\n",
        "        print('average_reward:', average_reward)\n",
        "    list_last_average_reward.append(average_reward)\n",
        "plt.plot(list_fix_torque,list_last_average_reward,'-o')\n",
        "plt.xlabel(\"Fix Torque\")\n",
        "plt.ylabel(\"Average Reward (10 episodes)\")\n",
        "plt.title('Average Reward with differnt Fixed Torque (HeuristicPendulumAgent)')\n",
        "plt.xticks(list_fix_torque)\n",
        "plt.show()\n",
        "env.close()"
      ]
    },
    {
      "cell_type": "code",
      "execution_count": null,
      "metadata": {
        "id": "pOVx9V7GbofA"
      },
      "outputs": [],
      "source": [
        "import gym\n",
        "env = gym.make(\"Pendulum-v1\")\n",
        "if colab:\n",
        "  #if run in google colab\n",
        "  observation = env.reset(seed=42)\n",
        "else:\n",
        "  #if run in own compuetr\n",
        "  observation, info = env.reset(seed=42)\n",
        "\n",
        "for _ in range(10):\n",
        "    action = env.action_space.sample()\n",
        "    if colab:\n",
        "      observation, reward, terminated, info = env.step(action)\n",
        "    else:\n",
        "      observation, reward, terminated, truncated, info = env.step(action)\n",
        "    print('observation:',observation)\n",
        "    print('reward:',reward)\n",
        "    # print('truncated:',truncated)\n",
        "    # print(1-truncated)\n",
        "    print(np.append(observation,reward))\n",
        "    if not colab:\n",
        "      if terminated or truncated:\n",
        "          observation, info = env.reset()\n",
        "env.close()"
      ]
    },
    {
      "attachments": {},
      "cell_type": "markdown",
      "metadata": {
        "id": "ZLXRnAqXbofB"
      },
      "source": [
        "## 4. Q function of the heuristic policy "
      ]
    },
    {
      "cell_type": "code",
      "execution_count": 14,
      "metadata": {
        "id": "lSidIhlkbofC"
      },
      "outputs": [],
      "source": [
        "import random\n",
        "# Implement the Replay Buffer\n",
        "class ReplayBuffer():\n",
        "    def __init__(self, max_size):\n",
        "        # max_size: how many transitions replay buffer can store at most\n",
        "        self.max_size = max_size\n",
        "        self.total_transition = []\n",
        "\n",
        "    def add(self, transition):\n",
        "        # transition: a tuple of (state, action, reward, next_state, trunc)\n",
        "\n",
        "        # check if the replay buffer is full\n",
        "        if len(self.total_transition) >= self.max_size:\n",
        "            # print(\"The replay buffer is full.-> remove the oldest transition\")\n",
        "            # remove the oldest transition\n",
        "            self.total_transition.pop(0)\n",
        "        # add transition to replay buffer\n",
        "        self.total_transition.append(transition)\n",
        "        \n",
        "    def sample(self, batch_size):\n",
        "        # batch_size: how many transitions will be sampled\n",
        "        # return a batch of transitions\n",
        "        \n",
        "        # check if the replay buffer is empty\n",
        "        if len(self.total_transition) == 0:\n",
        "            print(\"The replay buffer is empty.\")\n",
        "            return None\n",
        "        \n",
        "        # check if the replay buffer has enough transitions\n",
        "        if len(self.total_transition) < batch_size:\n",
        "            print(\"The replay buffer does not have enough transitions.\")\n",
        "            return None\n",
        "        \n",
        "        # sample batch_size transitions from the replay buffer randomly\n",
        "        return random.sample(self.total_transition, batch_size)\n",
        "    def __len__(self):\n",
        "        return len(self.total_transition)"
      ]
    },
    {
      "cell_type": "code",
      "execution_count": 15,
      "metadata": {
        "id": "UTj5RAq5bofD"
      },
      "outputs": [],
      "source": [
        "# Implement the class QNetwork\n",
        "class QNetwork(nn.Module):\n",
        "    def __init__(self, input_dim=4, output_dim=1, hidden_dim=32):\n",
        "        super(QNetwork, self).__init__()\n",
        "        # input_dim: dimension of the input -> 3 elements of the state and 1 of the action\n",
        "        # hidden_dim: dimension of one hidden layer -> 32 nodes\n",
        "        # output_dim: dimension of action -> a scalar value (the expected cumulative reward)\n",
        "        self.fc1 = nn.Linear(input_dim, hidden_dim)\n",
        "        self.fc2 = nn.Linear(hidden_dim, hidden_dim)\n",
        "        self.fc3 = nn.Linear(hidden_dim, output_dim)\n",
        "        \n",
        "    def forward(self, state):\n",
        "        # state: state -> 3 elements of the state and 1 of the action\n",
        "        # return expected cumulative reward \n",
        "        x = F.relu(self.fc1(state))\n",
        "        x = F.relu(self.fc2(x))\n",
        "        x = self.fc3(x)\n",
        "        return x   "
      ]
    },
    {
      "cell_type": "code",
      "execution_count": 53,
      "metadata": {
        "id": "npfeyRVobofE"
      },
      "outputs": [],
      "source": [
        "# Implement the 1-step TD-learning rule for the QNetwork\n",
        "def train_QNetwork(Q_network,Q_target,normalized_env,agent, batch, gamma, optimizer,last_step,device,fix_torque=1,policy_network=None,deterministic=None):\n",
        "    # print(\"HERE TRAIN\")\n",
        "    # Q_network: Q Network\n",
        "    # agent: policy use for action selection\n",
        "    # batch: a batch of transitions\n",
        "    # gamma: discount factor\n",
        "    # optimizer: optimizer\n",
        "    # fix_torque: fixed torque for HeuristicPendulumAgent\n",
        "    \n",
        "    # unpack the batch of transitions\n",
        "    # input_batch:put together 3 elements of the state and 1 of the action\n",
        "    input_batch=torch.tensor([np.append(transition[0],transition[1]) for transition in batch], dtype=torch.float).to(device)\n",
        "    # print the shape of input batch\n",
        "    # print('input_batch:',input_batch.shape)\n",
        "    # print('input_batch:',input_batch[0])\n",
        "    reward_batch = torch.tensor([transition[2] for transition in batch], dtype=torch.float)\n",
        "    # print('reward_batch:',reward_batch.shape)\n",
        "    # print('reward_batch:',reward_batch[0])\n",
        "    reward_batch=torch.unsqueeze(reward_batch, 1)\n",
        "    # print('reward_batch:',reward_batch.shape)\n",
        "    # print('reward_batch:',reward_batch[0])\n",
        "    if agent.agent_name =='HeuristicPendulumAgent':\n",
        "        # print('agent name',agent.agent_name)\n",
        "        target_batch=torch.tensor([np.append(transition[3], agent.compute_action(transition[3],fix_torque)) for transition in batch], dtype=torch.float).to(device)\n",
        "    else:\n",
        "        target_batch=torch.tensor([np.append(transition[3], agent.compute_action(policy_network,transition[3],deterministic)) for transition in batch], dtype=torch.float).to(device)\n",
        "    # print('target_batch:',target_batch[0])\n",
        "    # print('target_batch:',target_batch.shape)\n",
        "    trunc_batch=torch.tensor([transition[4] for transition in batch], dtype=torch.float)\n",
        "\n",
        "    # clear the gradients of the optimizer\n",
        "    optimizer.zero_grad()\n",
        "\n",
        "    # compute the Q values of the current state + action pair\n",
        "    # Q_network.train()\n",
        "    Q_values = Q_network(input_batch)\n",
        "    \n",
        "    # The target should not be differentiated, i.e., wrap it in a with torch.no grad()\n",
        "    # TODO: check with TA if it is correct\n",
        "    with torch.no_grad():\n",
        "        # Q_network.eval()\n",
        "        # compute the Q values of the next state + next action pair\n",
        "        Q_next_values = Q_target(target_batch)\n",
        "\n",
        "    # print the shape of reward batch, gamma, Q_next_values, trunc_batch\n",
        "    # print('reward_batch:',reward_batch.shape)\n",
        "    # print('gamma:',gamma.shape)\n",
        "    # print('Q_next_values:',Q_next_values.shape)\n",
        "    # print('1-trunc_batch:',torch.unsqueeze((1 - trunc_batch), 1).shape)\n",
        "    # print('Q*truc:',(Q_next_values * torch.unsqueeze((1 - trunc_batch), 1)).shape)\n",
        "    Q_target_values = reward_batch + gamma * Q_next_values * torch.unsqueeze((1 - trunc_batch), 1)\n",
        "    # if not last_step:\n",
        "    #     # compute the target Q values\n",
        "    #     Q_target_values = reward_batch + gamma * Q_next_values# * (1 - trunc_batch)\n",
        "    # else:\n",
        "    #     Q_target_values = reward_batch\n",
        "    # print('Q_values:',Q_values.requires_grad)\n",
        "    # print('Q_next_values:',Q_next_values.requires_grad)\n",
        "    # print('Q_target_values:',Q_target_values.requires_grad)\n",
        "    # for param, target_param in zip(Q_network.parameters(), Q_target.parameters()):\n",
        "    #     print(\"TRAIN param:\",param[0],param[0].requires_grad,\"target_param:\",target_param[0],target_param[0].requires_grad)\n",
        "    #     break\n",
        "        \n",
        "    # compute the loss\n",
        "    loss = F.mse_loss(Q_values.view(-1, 1), Q_target_values.view(-1, 1))\n",
        "    # print('loss:',loss.requires_grad)\n",
        "    \n",
        "    # compute the gradients of the loss\n",
        "    loss.backward()\n",
        "    # # show the gradients of the parameters in the Q network\n",
        "    # print(\"Q_network:\",Q_network.fc1.weight.grad[0])\n",
        "    # try:\n",
        "    #     print(\"Q_target:\",Q_target.fc1.weight.grad[0])\n",
        "    # except:\n",
        "    #     pass\n",
        "    \n",
        "    # update the weights of the Q network\n",
        "    optimizer.step()\n",
        "    \n",
        "    return loss.item(), Q_network"
      ]
    },
    {
      "cell_type": "code",
      "execution_count": 52,
      "metadata": {
        "colab": {
          "base_uri": "https://localhost:8080/",
          "height": 1000
        },
        "id": "kIqOkfOPbofG",
        "outputId": "bc3db277-ffda-4129-9501-67540cdb76e3"
      },
      "outputs": [
        {
          "name": "stdout",
          "output_type": "stream",
          "text": [
            "device: cpu\n",
            "Start training...\n"
          ]
        },
        {
          "name": "stderr",
          "output_type": "stream",
          "text": [
            "  0%|          | 0/200 [00:00<?, ?it/s]"
          ]
        },
        {
          "name": "stdout",
          "output_type": "stream",
          "text": [
            "The replay buffer does not have enough transitions.\n",
            "The replay buffer does not have enough transitions.\n",
            "The replay buffer does not have enough transitions.\n",
            "The replay buffer does not have enough transitions.\n",
            "The replay buffer does not have enough transitions.\n",
            "The replay buffer does not have enough transitions.\n",
            "The replay buffer does not have enough transitions.\n",
            "The replay buffer does not have enough transitions.\n",
            "The replay buffer does not have enough transitions.\n",
            "The replay buffer does not have enough transitions.\n",
            "The replay buffer does not have enough transitions.\n",
            "The replay buffer does not have enough transitions.\n",
            "The replay buffer does not have enough transitions.\n",
            "The replay buffer does not have enough transitions.\n",
            "The replay buffer does not have enough transitions.\n",
            "The replay buffer does not have enough transitions.\n",
            "The replay buffer does not have enough transitions.\n",
            "The replay buffer does not have enough transitions.\n",
            "The replay buffer does not have enough transitions.\n",
            "The replay buffer does not have enough transitions.\n",
            "The replay buffer does not have enough transitions.\n",
            "The replay buffer does not have enough transitions.\n",
            "The replay buffer does not have enough transitions.\n",
            "The replay buffer does not have enough transitions.\n",
            "The replay buffer does not have enough transitions.\n",
            "The replay buffer does not have enough transitions.\n",
            "The replay buffer does not have enough transitions.\n",
            "The replay buffer does not have enough transitions.\n",
            "The replay buffer does not have enough transitions.\n",
            "The replay buffer does not have enough transitions.\n",
            "The replay buffer does not have enough transitions.\n",
            "The replay buffer does not have enough transitions.\n",
            "The replay buffer does not have enough transitions.\n",
            "The replay buffer does not have enough transitions.\n",
            "The replay buffer does not have enough transitions.\n",
            "The replay buffer does not have enough transitions.\n",
            "The replay buffer does not have enough transitions.\n",
            "The replay buffer does not have enough transitions.\n",
            "The replay buffer does not have enough transitions.\n",
            "The replay buffer does not have enough transitions.\n",
            "The replay buffer does not have enough transitions.\n",
            "The replay buffer does not have enough transitions.\n",
            "The replay buffer does not have enough transitions.\n",
            "The replay buffer does not have enough transitions.\n",
            "The replay buffer does not have enough transitions.\n",
            "The replay buffer does not have enough transitions.\n",
            "The replay buffer does not have enough transitions.\n",
            "The replay buffer does not have enough transitions.\n",
            "The replay buffer does not have enough transitions.\n",
            "The replay buffer does not have enough transitions.\n",
            "The replay buffer does not have enough transitions.\n",
            "The replay buffer does not have enough transitions.\n",
            "The replay buffer does not have enough transitions.\n",
            "The replay buffer does not have enough transitions.\n",
            "The replay buffer does not have enough transitions.\n",
            "The replay buffer does not have enough transitions.\n",
            "The replay buffer does not have enough transitions.\n",
            "The replay buffer does not have enough transitions.\n",
            "The replay buffer does not have enough transitions.\n",
            "The replay buffer does not have enough transitions.\n",
            "The replay buffer does not have enough transitions.\n",
            "The replay buffer does not have enough transitions.\n",
            "The replay buffer does not have enough transitions.\n",
            "The replay buffer does not have enough transitions.\n",
            "The replay buffer does not have enough transitions.\n",
            "The replay buffer does not have enough transitions.\n",
            "The replay buffer does not have enough transitions.\n",
            "The replay buffer does not have enough transitions.\n",
            "The replay buffer does not have enough transitions.\n",
            "The replay buffer does not have enough transitions.\n",
            "The replay buffer does not have enough transitions.\n",
            "The replay buffer does not have enough transitions.\n",
            "The replay buffer does not have enough transitions.\n",
            "The replay buffer does not have enough transitions.\n",
            "The replay buffer does not have enough transitions.\n",
            "The replay buffer does not have enough transitions.\n",
            "The replay buffer does not have enough transitions.\n",
            "The replay buffer does not have enough transitions.\n",
            "The replay buffer does not have enough transitions.\n",
            "The replay buffer does not have enough transitions.\n",
            "The replay buffer does not have enough transitions.\n",
            "The replay buffer does not have enough transitions.\n",
            "The replay buffer does not have enough transitions.\n",
            "The replay buffer does not have enough transitions.\n",
            "The replay buffer does not have enough transitions.\n",
            "The replay buffer does not have enough transitions.\n",
            "The replay buffer does not have enough transitions.\n",
            "The replay buffer does not have enough transitions.\n",
            "The replay buffer does not have enough transitions.\n",
            "The replay buffer does not have enough transitions.\n",
            "The replay buffer does not have enough transitions.\n",
            "The replay buffer does not have enough transitions.\n",
            "The replay buffer does not have enough transitions.\n",
            "The replay buffer does not have enough transitions.\n",
            "The replay buffer does not have enough transitions.\n",
            "The replay buffer does not have enough transitions.\n",
            "The replay buffer does not have enough transitions.\n",
            "The replay buffer does not have enough transitions.\n",
            "The replay buffer does not have enough transitions.\n",
            "The replay buffer does not have enough transitions.\n",
            "The replay buffer does not have enough transitions.\n",
            "The replay buffer does not have enough transitions.\n",
            "The replay buffer does not have enough transitions.\n",
            "The replay buffer does not have enough transitions.\n",
            "The replay buffer does not have enough transitions.\n",
            "The replay buffer does not have enough transitions.\n",
            "The replay buffer does not have enough transitions.\n",
            "The replay buffer does not have enough transitions.\n",
            "The replay buffer does not have enough transitions.\n",
            "The replay buffer does not have enough transitions.\n",
            "The replay buffer does not have enough transitions.\n",
            "The replay buffer does not have enough transitions.\n",
            "The replay buffer does not have enough transitions.\n",
            "The replay buffer does not have enough transitions.\n",
            "The replay buffer does not have enough transitions.\n",
            "The replay buffer does not have enough transitions.\n",
            "The replay buffer does not have enough transitions.\n",
            "The replay buffer does not have enough transitions.\n",
            "The replay buffer does not have enough transitions.\n",
            "The replay buffer does not have enough transitions.\n",
            "The replay buffer does not have enough transitions.\n",
            "The replay buffer does not have enough transitions.\n",
            "The replay buffer does not have enough transitions.\n",
            "The replay buffer does not have enough transitions.\n",
            "The replay buffer does not have enough transitions.\n",
            "The replay buffer does not have enough transitions.\n",
            "The replay buffer does not have enough transitions.\n"
          ]
        },
        {
          "name": "stderr",
          "output_type": "stream",
          "text": [
            "  0%|          | 1/200 [00:00<01:25,  2.32it/s]"
          ]
        },
        {
          "name": "stdout",
          "output_type": "stream",
          "text": [
            "average_loss: 7.598064169883728\n"
          ]
        },
        {
          "name": "stderr",
          "output_type": "stream",
          "text": [
            "  1%|          | 2/200 [00:01<02:15,  1.46it/s]"
          ]
        },
        {
          "name": "stdout",
          "output_type": "stream",
          "text": [
            "average_loss: 22.154830794334412\n"
          ]
        },
        {
          "name": "stderr",
          "output_type": "stream",
          "text": [
            "  2%|▏         | 3/200 [00:02<02:40,  1.23it/s]"
          ]
        },
        {
          "name": "stdout",
          "output_type": "stream",
          "text": [
            "average_loss: 17.335087459087372\n"
          ]
        },
        {
          "name": "stderr",
          "output_type": "stream",
          "text": [
            "  2%|▏         | 4/200 [00:04<04:21,  1.34s/it]"
          ]
        },
        {
          "name": "stdout",
          "output_type": "stream",
          "text": [
            "average_loss: 18.91084959745407\n"
          ]
        },
        {
          "name": "stderr",
          "output_type": "stream",
          "text": [
            "  2%|▎         | 5/200 [00:06<05:30,  1.69s/it]"
          ]
        },
        {
          "name": "stdout",
          "output_type": "stream",
          "text": [
            "average_loss: 19.69480519771576\n"
          ]
        },
        {
          "name": "stderr",
          "output_type": "stream",
          "text": [
            "  3%|▎         | 6/200 [00:08<06:06,  1.89s/it]"
          ]
        },
        {
          "name": "stdout",
          "output_type": "stream",
          "text": [
            "average_loss: 21.080498099327087\n"
          ]
        },
        {
          "name": "stderr",
          "output_type": "stream",
          "text": [
            "  4%|▎         | 7/200 [00:11<06:41,  2.08s/it]"
          ]
        },
        {
          "name": "stdout",
          "output_type": "stream",
          "text": [
            "average_loss: 23.118949222564698\n"
          ]
        },
        {
          "name": "stderr",
          "output_type": "stream",
          "text": [
            "  4%|▍         | 8/200 [00:13<06:57,  2.18s/it]"
          ]
        },
        {
          "name": "stdout",
          "output_type": "stream",
          "text": [
            "average_loss: 29.16453902721405\n"
          ]
        },
        {
          "name": "stderr",
          "output_type": "stream",
          "text": [
            "  4%|▍         | 9/200 [00:16<06:57,  2.19s/it]"
          ]
        },
        {
          "name": "stdout",
          "output_type": "stream",
          "text": [
            "average_loss: 35.14247602462768\n"
          ]
        },
        {
          "name": "stderr",
          "output_type": "stream",
          "text": [
            "  5%|▌         | 10/200 [00:18<06:53,  2.18s/it]"
          ]
        },
        {
          "name": "stdout",
          "output_type": "stream",
          "text": [
            "average_loss: 45.56804032325745\n"
          ]
        },
        {
          "name": "stderr",
          "output_type": "stream",
          "text": [
            "  6%|▌         | 11/200 [00:20<07:15,  2.31s/it]"
          ]
        },
        {
          "name": "stdout",
          "output_type": "stream",
          "text": [
            "average_loss: 62.85898585319519\n"
          ]
        },
        {
          "name": "stderr",
          "output_type": "stream",
          "text": [
            "  6%|▌         | 12/200 [00:23<07:13,  2.31s/it]"
          ]
        },
        {
          "name": "stdout",
          "output_type": "stream",
          "text": [
            "average_loss: 82.77033147811889\n"
          ]
        },
        {
          "name": "stderr",
          "output_type": "stream",
          "text": [
            "  6%|▋         | 13/200 [00:25<07:12,  2.31s/it]"
          ]
        },
        {
          "name": "stdout",
          "output_type": "stream",
          "text": [
            "average_loss: 107.6633316040039\n"
          ]
        },
        {
          "name": "stderr",
          "output_type": "stream",
          "text": [
            "  7%|▋         | 14/200 [00:27<06:54,  2.23s/it]"
          ]
        },
        {
          "name": "stdout",
          "output_type": "stream",
          "text": [
            "average_loss: 135.91851139068604\n"
          ]
        },
        {
          "name": "stderr",
          "output_type": "stream",
          "text": [
            "  8%|▊         | 15/200 [00:29<06:42,  2.18s/it]"
          ]
        },
        {
          "name": "stdout",
          "output_type": "stream",
          "text": [
            "average_loss: 183.0761360168457\n"
          ]
        },
        {
          "name": "stderr",
          "output_type": "stream",
          "text": [
            "  8%|▊         | 16/200 [00:31<06:45,  2.20s/it]"
          ]
        },
        {
          "name": "stdout",
          "output_type": "stream",
          "text": [
            "average_loss: 195.11138370513916\n"
          ]
        },
        {
          "name": "stderr",
          "output_type": "stream",
          "text": [
            "  8%|▊         | 17/200 [00:34<06:43,  2.20s/it]"
          ]
        },
        {
          "name": "stdout",
          "output_type": "stream",
          "text": [
            "average_loss: 252.7880414581299\n"
          ]
        },
        {
          "name": "stderr",
          "output_type": "stream",
          "text": [
            "  9%|▉         | 18/200 [00:36<06:31,  2.15s/it]"
          ]
        },
        {
          "name": "stdout",
          "output_type": "stream",
          "text": [
            "average_loss: 250.8277172088623\n"
          ]
        },
        {
          "name": "stderr",
          "output_type": "stream",
          "text": [
            " 10%|▉         | 19/200 [00:38<06:30,  2.16s/it]"
          ]
        },
        {
          "name": "stdout",
          "output_type": "stream",
          "text": [
            "average_loss: 285.47413501739504\n"
          ]
        },
        {
          "name": "stderr",
          "output_type": "stream",
          "text": [
            " 10%|█         | 20/200 [00:40<06:16,  2.09s/it]"
          ]
        },
        {
          "name": "stdout",
          "output_type": "stream",
          "text": [
            "average_loss: 299.27366497039793\n"
          ]
        },
        {
          "name": "stderr",
          "output_type": "stream",
          "text": [
            " 10%|█         | 21/200 [00:42<06:05,  2.04s/it]"
          ]
        },
        {
          "name": "stdout",
          "output_type": "stream",
          "text": [
            "average_loss: 320.9151444244385\n"
          ]
        },
        {
          "name": "stderr",
          "output_type": "stream",
          "text": [
            " 11%|█         | 22/200 [00:43<05:56,  2.00s/it]"
          ]
        },
        {
          "name": "stdout",
          "output_type": "stream",
          "text": [
            "average_loss: 337.8138304138184\n"
          ]
        },
        {
          "name": "stderr",
          "output_type": "stream",
          "text": [
            " 12%|█▏        | 23/200 [00:45<05:46,  1.96s/it]"
          ]
        },
        {
          "name": "stdout",
          "output_type": "stream",
          "text": [
            "average_loss: 355.93685989379884\n"
          ]
        },
        {
          "name": "stderr",
          "output_type": "stream",
          "text": [
            " 12%|█▏        | 24/200 [00:47<05:43,  1.95s/it]"
          ]
        },
        {
          "name": "stdout",
          "output_type": "stream",
          "text": [
            "average_loss: 348.12820274353027\n"
          ]
        },
        {
          "name": "stderr",
          "output_type": "stream",
          "text": [
            " 12%|█▎        | 25/200 [00:49<05:55,  2.03s/it]"
          ]
        },
        {
          "name": "stdout",
          "output_type": "stream",
          "text": [
            "average_loss: 325.16839332580565\n"
          ]
        },
        {
          "name": "stderr",
          "output_type": "stream",
          "text": [
            " 13%|█▎        | 26/200 [00:52<05:56,  2.05s/it]"
          ]
        },
        {
          "name": "stdout",
          "output_type": "stream",
          "text": [
            "average_loss: 337.51995983123777\n"
          ]
        },
        {
          "name": "stderr",
          "output_type": "stream",
          "text": [
            " 14%|█▎        | 27/200 [00:54<06:04,  2.11s/it]"
          ]
        },
        {
          "name": "stdout",
          "output_type": "stream",
          "text": [
            "average_loss: 329.3054926300049\n"
          ]
        },
        {
          "name": "stderr",
          "output_type": "stream",
          "text": [
            " 14%|█▍        | 28/200 [00:56<05:58,  2.08s/it]"
          ]
        },
        {
          "name": "stdout",
          "output_type": "stream",
          "text": [
            "average_loss: 337.5809811401367\n"
          ]
        },
        {
          "name": "stderr",
          "output_type": "stream",
          "text": [
            " 14%|█▍        | 29/200 [00:58<06:00,  2.11s/it]"
          ]
        },
        {
          "name": "stdout",
          "output_type": "stream",
          "text": [
            "average_loss: 325.6730838012695\n"
          ]
        },
        {
          "name": "stderr",
          "output_type": "stream",
          "text": [
            " 15%|█▌        | 30/200 [01:00<05:56,  2.10s/it]"
          ]
        },
        {
          "name": "stdout",
          "output_type": "stream",
          "text": [
            "average_loss: 307.06869102478026\n"
          ]
        },
        {
          "name": "stderr",
          "output_type": "stream",
          "text": [
            " 16%|█▌        | 31/200 [01:02<05:45,  2.05s/it]"
          ]
        },
        {
          "name": "stdout",
          "output_type": "stream",
          "text": [
            "average_loss: 305.5099352264404\n"
          ]
        },
        {
          "name": "stderr",
          "output_type": "stream",
          "text": [
            " 16%|█▌        | 32/200 [01:04<05:50,  2.08s/it]"
          ]
        },
        {
          "name": "stdout",
          "output_type": "stream",
          "text": [
            "average_loss: 286.40397243499757\n"
          ]
        },
        {
          "name": "stderr",
          "output_type": "stream",
          "text": [
            " 16%|█▋        | 33/200 [01:06<05:44,  2.06s/it]"
          ]
        },
        {
          "name": "stdout",
          "output_type": "stream",
          "text": [
            "average_loss: 272.0012956619263\n"
          ]
        },
        {
          "name": "stderr",
          "output_type": "stream",
          "text": [
            " 17%|█▋        | 34/200 [01:08<05:51,  2.11s/it]"
          ]
        },
        {
          "name": "stdout",
          "output_type": "stream",
          "text": [
            "average_loss: 262.5544464492798\n"
          ]
        },
        {
          "name": "stderr",
          "output_type": "stream",
          "text": [
            " 18%|█▊        | 35/200 [01:11<06:02,  2.19s/it]"
          ]
        },
        {
          "name": "stdout",
          "output_type": "stream",
          "text": [
            "average_loss: 249.15197338104247\n"
          ]
        },
        {
          "name": "stderr",
          "output_type": "stream",
          "text": [
            " 18%|█▊        | 36/200 [01:13<05:49,  2.13s/it]"
          ]
        },
        {
          "name": "stdout",
          "output_type": "stream",
          "text": [
            "average_loss: 236.65020111083984\n"
          ]
        },
        {
          "name": "stderr",
          "output_type": "stream",
          "text": [
            " 18%|█▊        | 37/200 [01:15<05:38,  2.07s/it]"
          ]
        },
        {
          "name": "stdout",
          "output_type": "stream",
          "text": [
            "average_loss: 210.9704465866089\n"
          ]
        },
        {
          "name": "stderr",
          "output_type": "stream",
          "text": [
            " 19%|█▉        | 38/200 [01:17<05:36,  2.08s/it]"
          ]
        },
        {
          "name": "stdout",
          "output_type": "stream",
          "text": [
            "average_loss: 202.48932598114013\n"
          ]
        },
        {
          "name": "stderr",
          "output_type": "stream",
          "text": [
            " 20%|█▉        | 39/200 [01:19<05:33,  2.07s/it]"
          ]
        },
        {
          "name": "stdout",
          "output_type": "stream",
          "text": [
            "average_loss: 204.83291286468506\n"
          ]
        },
        {
          "name": "stderr",
          "output_type": "stream",
          "text": [
            " 20%|██        | 40/200 [01:21<05:30,  2.07s/it]"
          ]
        },
        {
          "name": "stdout",
          "output_type": "stream",
          "text": [
            "average_loss: 166.23021171569823\n"
          ]
        },
        {
          "name": "stderr",
          "output_type": "stream",
          "text": [
            " 20%|██        | 41/200 [01:23<05:27,  2.06s/it]"
          ]
        },
        {
          "name": "stdout",
          "output_type": "stream",
          "text": [
            "average_loss: 163.59057704925536\n"
          ]
        },
        {
          "name": "stderr",
          "output_type": "stream",
          "text": [
            " 21%|██        | 42/200 [01:25<05:16,  2.00s/it]"
          ]
        },
        {
          "name": "stdout",
          "output_type": "stream",
          "text": [
            "average_loss: 144.00642066955567\n"
          ]
        },
        {
          "name": "stderr",
          "output_type": "stream",
          "text": [
            " 22%|██▏       | 43/200 [01:27<05:09,  1.97s/it]"
          ]
        },
        {
          "name": "stdout",
          "output_type": "stream",
          "text": [
            "average_loss: 148.22904905319214\n"
          ]
        },
        {
          "name": "stderr",
          "output_type": "stream",
          "text": [
            " 22%|██▏       | 44/200 [01:29<05:17,  2.03s/it]"
          ]
        },
        {
          "name": "stdout",
          "output_type": "stream",
          "text": [
            "average_loss: 134.65734846115112\n"
          ]
        },
        {
          "name": "stderr",
          "output_type": "stream",
          "text": [
            " 22%|██▎       | 45/200 [01:31<05:25,  2.10s/it]"
          ]
        },
        {
          "name": "stdout",
          "output_type": "stream",
          "text": [
            "average_loss: 115.12338752746582\n"
          ]
        },
        {
          "name": "stderr",
          "output_type": "stream",
          "text": [
            " 23%|██▎       | 46/200 [01:33<05:17,  2.06s/it]"
          ]
        },
        {
          "name": "stdout",
          "output_type": "stream",
          "text": [
            "average_loss: 109.58663467407227\n"
          ]
        },
        {
          "name": "stderr",
          "output_type": "stream",
          "text": [
            " 24%|██▎       | 47/200 [01:35<05:23,  2.12s/it]"
          ]
        },
        {
          "name": "stdout",
          "output_type": "stream",
          "text": [
            "average_loss: 103.81369943618775\n"
          ]
        },
        {
          "name": "stderr",
          "output_type": "stream",
          "text": [
            " 24%|██▍       | 48/200 [01:38<05:22,  2.12s/it]"
          ]
        },
        {
          "name": "stdout",
          "output_type": "stream",
          "text": [
            "average_loss: 88.18361457824707\n"
          ]
        },
        {
          "name": "stderr",
          "output_type": "stream",
          "text": [
            " 24%|██▍       | 49/200 [01:40<05:17,  2.10s/it]"
          ]
        },
        {
          "name": "stdout",
          "output_type": "stream",
          "text": [
            "average_loss: 92.86724879264831\n"
          ]
        },
        {
          "name": "stderr",
          "output_type": "stream",
          "text": [
            " 25%|██▌       | 50/200 [01:42<05:25,  2.17s/it]"
          ]
        },
        {
          "name": "stdout",
          "output_type": "stream",
          "text": [
            "average_loss: 80.24462784767151\n"
          ]
        },
        {
          "name": "stderr",
          "output_type": "stream",
          "text": [
            " 26%|██▌       | 51/200 [01:44<05:24,  2.18s/it]"
          ]
        },
        {
          "name": "stdout",
          "output_type": "stream",
          "text": [
            "average_loss: 82.35979197502137\n"
          ]
        },
        {
          "name": "stderr",
          "output_type": "stream",
          "text": [
            " 26%|██▌       | 52/200 [01:46<05:12,  2.11s/it]"
          ]
        },
        {
          "name": "stdout",
          "output_type": "stream",
          "text": [
            "average_loss: 87.04306620597839\n"
          ]
        },
        {
          "name": "stderr",
          "output_type": "stream",
          "text": [
            " 26%|██▋       | 53/200 [01:48<05:22,  2.20s/it]"
          ]
        },
        {
          "name": "stdout",
          "output_type": "stream",
          "text": [
            "average_loss: 79.43453624725342\n"
          ]
        },
        {
          "name": "stderr",
          "output_type": "stream",
          "text": [
            " 27%|██▋       | 54/200 [01:51<05:14,  2.15s/it]"
          ]
        },
        {
          "name": "stdout",
          "output_type": "stream",
          "text": [
            "average_loss: 90.35459416389466\n"
          ]
        },
        {
          "name": "stderr",
          "output_type": "stream",
          "text": [
            " 28%|██▊       | 55/200 [01:53<05:17,  2.19s/it]"
          ]
        },
        {
          "name": "stdout",
          "output_type": "stream",
          "text": [
            "average_loss: 89.57325993537903\n"
          ]
        },
        {
          "name": "stderr",
          "output_type": "stream",
          "text": [
            " 28%|██▊       | 56/200 [01:55<05:08,  2.14s/it]"
          ]
        },
        {
          "name": "stdout",
          "output_type": "stream",
          "text": [
            "average_loss: 82.6857025527954\n"
          ]
        },
        {
          "name": "stderr",
          "output_type": "stream",
          "text": [
            " 28%|██▊       | 57/200 [01:57<04:58,  2.09s/it]"
          ]
        },
        {
          "name": "stdout",
          "output_type": "stream",
          "text": [
            "average_loss: 95.61005954742431\n"
          ]
        },
        {
          "name": "stderr",
          "output_type": "stream",
          "text": [
            " 29%|██▉       | 58/200 [01:59<05:01,  2.12s/it]"
          ]
        },
        {
          "name": "stdout",
          "output_type": "stream",
          "text": [
            "average_loss: 87.78367946624756\n"
          ]
        },
        {
          "name": "stderr",
          "output_type": "stream",
          "text": [
            " 30%|██▉       | 59/200 [02:01<04:53,  2.08s/it]"
          ]
        },
        {
          "name": "stdout",
          "output_type": "stream",
          "text": [
            "average_loss: 81.4818398475647\n"
          ]
        },
        {
          "name": "stderr",
          "output_type": "stream",
          "text": [
            " 30%|███       | 60/200 [02:03<04:50,  2.08s/it]"
          ]
        },
        {
          "name": "stdout",
          "output_type": "stream",
          "text": [
            "average_loss: 90.1586812877655\n"
          ]
        },
        {
          "name": "stderr",
          "output_type": "stream",
          "text": [
            " 30%|███       | 61/200 [02:05<04:55,  2.12s/it]"
          ]
        },
        {
          "name": "stdout",
          "output_type": "stream",
          "text": [
            "average_loss: 104.66696744918823\n"
          ]
        },
        {
          "name": "stderr",
          "output_type": "stream",
          "text": [
            " 31%|███       | 62/200 [02:07<04:51,  2.11s/it]"
          ]
        },
        {
          "name": "stdout",
          "output_type": "stream",
          "text": [
            "average_loss: 91.22230173110962\n"
          ]
        },
        {
          "name": "stderr",
          "output_type": "stream",
          "text": [
            " 32%|███▏      | 63/200 [02:10<04:57,  2.17s/it]"
          ]
        },
        {
          "name": "stdout",
          "output_type": "stream",
          "text": [
            "average_loss: 109.18580992698669\n"
          ]
        },
        {
          "name": "stderr",
          "output_type": "stream",
          "text": [
            " 32%|███▏      | 64/200 [02:12<04:58,  2.20s/it]"
          ]
        },
        {
          "name": "stdout",
          "output_type": "stream",
          "text": [
            "average_loss: 102.65410513877869\n"
          ]
        },
        {
          "name": "stderr",
          "output_type": "stream",
          "text": [
            " 32%|███▎      | 65/200 [02:14<04:48,  2.14s/it]"
          ]
        },
        {
          "name": "stdout",
          "output_type": "stream",
          "text": [
            "average_loss: 100.00204613685608\n"
          ]
        },
        {
          "name": "stderr",
          "output_type": "stream",
          "text": [
            " 33%|███▎      | 66/200 [02:16<04:48,  2.15s/it]"
          ]
        },
        {
          "name": "stdout",
          "output_type": "stream",
          "text": [
            "average_loss: 105.49873950958252\n"
          ]
        },
        {
          "name": "stderr",
          "output_type": "stream",
          "text": [
            " 34%|███▎      | 67/200 [02:18<04:37,  2.08s/it]"
          ]
        },
        {
          "name": "stdout",
          "output_type": "stream",
          "text": [
            "average_loss: 106.65475724220276\n"
          ]
        },
        {
          "name": "stderr",
          "output_type": "stream",
          "text": [
            " 34%|███▍      | 68/200 [02:20<04:30,  2.05s/it]"
          ]
        },
        {
          "name": "stdout",
          "output_type": "stream",
          "text": [
            "average_loss: 118.32735485553741\n"
          ]
        },
        {
          "name": "stderr",
          "output_type": "stream",
          "text": [
            " 34%|███▍      | 69/200 [02:22<04:40,  2.14s/it]"
          ]
        },
        {
          "name": "stdout",
          "output_type": "stream",
          "text": [
            "average_loss: 106.08164609909058\n"
          ]
        },
        {
          "name": "stderr",
          "output_type": "stream",
          "text": [
            " 35%|███▌      | 70/200 [02:24<04:36,  2.13s/it]"
          ]
        },
        {
          "name": "stdout",
          "output_type": "stream",
          "text": [
            "average_loss: 112.160450630188\n"
          ]
        },
        {
          "name": "stderr",
          "output_type": "stream",
          "text": [
            " 36%|███▌      | 71/200 [02:27<04:31,  2.11s/it]"
          ]
        },
        {
          "name": "stdout",
          "output_type": "stream",
          "text": [
            "average_loss: 111.25168783187866\n"
          ]
        },
        {
          "name": "stderr",
          "output_type": "stream",
          "text": [
            " 36%|███▌      | 72/200 [02:29<04:27,  2.09s/it]"
          ]
        },
        {
          "name": "stdout",
          "output_type": "stream",
          "text": [
            "average_loss: 107.70000093460084\n"
          ]
        },
        {
          "name": "stderr",
          "output_type": "stream",
          "text": [
            " 36%|███▋      | 73/200 [02:31<04:24,  2.08s/it]"
          ]
        },
        {
          "name": "stdout",
          "output_type": "stream",
          "text": [
            "average_loss: 104.91918943405152\n"
          ]
        },
        {
          "name": "stderr",
          "output_type": "stream",
          "text": [
            " 37%|███▋      | 74/200 [02:33<04:21,  2.07s/it]"
          ]
        },
        {
          "name": "stdout",
          "output_type": "stream",
          "text": [
            "average_loss: 106.58596280097962\n"
          ]
        },
        {
          "name": "stderr",
          "output_type": "stream",
          "text": [
            " 38%|███▊      | 75/200 [02:35<04:12,  2.02s/it]"
          ]
        },
        {
          "name": "stdout",
          "output_type": "stream",
          "text": [
            "average_loss: 107.3837431049347\n"
          ]
        },
        {
          "name": "stderr",
          "output_type": "stream",
          "text": [
            " 38%|███▊      | 76/200 [02:36<04:04,  1.97s/it]"
          ]
        },
        {
          "name": "stdout",
          "output_type": "stream",
          "text": [
            "average_loss: 103.36468363761902\n"
          ]
        },
        {
          "name": "stderr",
          "output_type": "stream",
          "text": [
            " 38%|███▊      | 77/200 [02:38<04:05,  1.99s/it]"
          ]
        },
        {
          "name": "stdout",
          "output_type": "stream",
          "text": [
            "average_loss: 98.9953581571579\n"
          ]
        },
        {
          "name": "stderr",
          "output_type": "stream",
          "text": [
            " 39%|███▉      | 78/200 [02:40<04:03,  1.99s/it]"
          ]
        },
        {
          "name": "stdout",
          "output_type": "stream",
          "text": [
            "average_loss: 106.64275421619415\n"
          ]
        },
        {
          "name": "stderr",
          "output_type": "stream",
          "text": [
            " 40%|███▉      | 79/200 [02:43<04:07,  2.05s/it]"
          ]
        },
        {
          "name": "stdout",
          "output_type": "stream",
          "text": [
            "average_loss: 101.91237946510314\n"
          ]
        },
        {
          "name": "stderr",
          "output_type": "stream",
          "text": [
            " 40%|████      | 80/200 [02:45<04:10,  2.09s/it]"
          ]
        },
        {
          "name": "stdout",
          "output_type": "stream",
          "text": [
            "average_loss: 98.4226281452179\n"
          ]
        },
        {
          "name": "stderr",
          "output_type": "stream",
          "text": [
            " 40%|████      | 81/200 [02:47<04:09,  2.10s/it]"
          ]
        },
        {
          "name": "stdout",
          "output_type": "stream",
          "text": [
            "average_loss: 97.99666345596313\n"
          ]
        },
        {
          "name": "stderr",
          "output_type": "stream",
          "text": [
            " 41%|████      | 82/200 [02:49<04:16,  2.18s/it]"
          ]
        },
        {
          "name": "stdout",
          "output_type": "stream",
          "text": [
            "average_loss: 100.63926757335663\n"
          ]
        },
        {
          "name": "stderr",
          "output_type": "stream",
          "text": [
            " 42%|████▏     | 83/200 [02:51<04:14,  2.18s/it]"
          ]
        },
        {
          "name": "stdout",
          "output_type": "stream",
          "text": [
            "average_loss: 104.57252991199493\n"
          ]
        },
        {
          "name": "stderr",
          "output_type": "stream",
          "text": [
            " 42%|████▏     | 84/200 [02:54<04:14,  2.19s/it]"
          ]
        },
        {
          "name": "stdout",
          "output_type": "stream",
          "text": [
            "average_loss: 103.08304473400116\n"
          ]
        },
        {
          "name": "stderr",
          "output_type": "stream",
          "text": [
            " 42%|████▎     | 85/200 [02:56<04:04,  2.13s/it]"
          ]
        },
        {
          "name": "stdout",
          "output_type": "stream",
          "text": [
            "average_loss: 92.49908380031586\n"
          ]
        },
        {
          "name": "stderr",
          "output_type": "stream",
          "text": [
            " 43%|████▎     | 86/200 [02:58<03:55,  2.07s/it]"
          ]
        },
        {
          "name": "stdout",
          "output_type": "stream",
          "text": [
            "average_loss: 93.51908666610717\n"
          ]
        },
        {
          "name": "stderr",
          "output_type": "stream",
          "text": [
            " 44%|████▎     | 87/200 [03:00<03:55,  2.09s/it]"
          ]
        },
        {
          "name": "stdout",
          "output_type": "stream",
          "text": [
            "average_loss: 97.37782775402069\n"
          ]
        },
        {
          "name": "stderr",
          "output_type": "stream",
          "text": [
            " 44%|████▍     | 88/200 [03:02<03:50,  2.06s/it]"
          ]
        },
        {
          "name": "stdout",
          "output_type": "stream",
          "text": [
            "average_loss: 96.11684123039245\n"
          ]
        },
        {
          "name": "stderr",
          "output_type": "stream",
          "text": [
            " 44%|████▍     | 89/200 [03:04<03:57,  2.14s/it]"
          ]
        },
        {
          "name": "stdout",
          "output_type": "stream",
          "text": [
            "average_loss: 95.3776056432724\n"
          ]
        },
        {
          "name": "stderr",
          "output_type": "stream",
          "text": [
            " 45%|████▌     | 90/200 [03:07<04:11,  2.29s/it]"
          ]
        },
        {
          "name": "stdout",
          "output_type": "stream",
          "text": [
            "average_loss: 79.91428188800812\n"
          ]
        },
        {
          "name": "stderr",
          "output_type": "stream",
          "text": [
            " 46%|████▌     | 91/200 [03:10<04:34,  2.52s/it]"
          ]
        },
        {
          "name": "stdout",
          "output_type": "stream",
          "text": [
            "average_loss: 97.45550524234771\n"
          ]
        },
        {
          "name": "stderr",
          "output_type": "stream",
          "text": [
            " 46%|████▌     | 92/200 [03:12<04:13,  2.35s/it]"
          ]
        },
        {
          "name": "stdout",
          "output_type": "stream",
          "text": [
            "average_loss: 96.74118050098419\n"
          ]
        },
        {
          "name": "stderr",
          "output_type": "stream",
          "text": [
            " 46%|████▋     | 93/200 [03:14<04:22,  2.45s/it]"
          ]
        },
        {
          "name": "stdout",
          "output_type": "stream",
          "text": [
            "average_loss: 96.9885999584198\n"
          ]
        },
        {
          "name": "stderr",
          "output_type": "stream",
          "text": [
            " 47%|████▋     | 94/200 [03:17<04:19,  2.45s/it]"
          ]
        },
        {
          "name": "stdout",
          "output_type": "stream",
          "text": [
            "average_loss: 96.36967948436737\n"
          ]
        },
        {
          "name": "stderr",
          "output_type": "stream",
          "text": [
            " 48%|████▊     | 95/200 [03:19<04:21,  2.49s/it]"
          ]
        },
        {
          "name": "stdout",
          "output_type": "stream",
          "text": [
            "average_loss: 87.67988436222076\n"
          ]
        },
        {
          "name": "stderr",
          "output_type": "stream",
          "text": [
            " 48%|████▊     | 96/200 [03:22<04:20,  2.51s/it]"
          ]
        },
        {
          "name": "stdout",
          "output_type": "stream",
          "text": [
            "average_loss: 91.03149631500244\n"
          ]
        },
        {
          "name": "stderr",
          "output_type": "stream",
          "text": [
            " 48%|████▊     | 97/200 [03:24<04:06,  2.39s/it]"
          ]
        },
        {
          "name": "stdout",
          "output_type": "stream",
          "text": [
            "average_loss: 89.37295617103577\n"
          ]
        },
        {
          "name": "stderr",
          "output_type": "stream",
          "text": [
            " 49%|████▉     | 98/200 [03:26<03:51,  2.27s/it]"
          ]
        },
        {
          "name": "stdout",
          "output_type": "stream",
          "text": [
            "average_loss: 94.69489040374756\n"
          ]
        },
        {
          "name": "stderr",
          "output_type": "stream",
          "text": [
            " 50%|████▉     | 99/200 [03:28<03:43,  2.21s/it]"
          ]
        },
        {
          "name": "stdout",
          "output_type": "stream",
          "text": [
            "average_loss: 101.38021355152131\n"
          ]
        },
        {
          "name": "stderr",
          "output_type": "stream",
          "text": [
            " 50%|█████     | 100/200 [03:30<03:37,  2.18s/it]"
          ]
        },
        {
          "name": "stdout",
          "output_type": "stream",
          "text": [
            "average_loss: 90.95801877498627\n"
          ]
        },
        {
          "name": "stderr",
          "output_type": "stream",
          "text": [
            " 50%|█████     | 101/200 [03:34<04:08,  2.51s/it]"
          ]
        },
        {
          "name": "stdout",
          "output_type": "stream",
          "text": [
            "average_loss: 90.10466871738434\n"
          ]
        },
        {
          "name": "stderr",
          "output_type": "stream",
          "text": [
            " 51%|█████     | 102/200 [03:36<03:58,  2.43s/it]"
          ]
        },
        {
          "name": "stdout",
          "output_type": "stream",
          "text": [
            "average_loss: 91.79557834148407\n"
          ]
        },
        {
          "name": "stderr",
          "output_type": "stream",
          "text": [
            " 52%|█████▏    | 103/200 [03:38<03:43,  2.31s/it]"
          ]
        },
        {
          "name": "stdout",
          "output_type": "stream",
          "text": [
            "average_loss: 95.53346308708191\n"
          ]
        },
        {
          "name": "stderr",
          "output_type": "stream",
          "text": [
            " 52%|█████▏    | 104/200 [03:40<03:37,  2.27s/it]"
          ]
        },
        {
          "name": "stdout",
          "output_type": "stream",
          "text": [
            "average_loss: 93.74224645614623\n"
          ]
        },
        {
          "name": "stderr",
          "output_type": "stream",
          "text": [
            " 52%|█████▎    | 105/200 [03:42<03:27,  2.19s/it]"
          ]
        },
        {
          "name": "stdout",
          "output_type": "stream",
          "text": [
            "average_loss: 101.28981427192689\n"
          ]
        },
        {
          "name": "stderr",
          "output_type": "stream",
          "text": [
            " 53%|█████▎    | 106/200 [03:44<03:20,  2.14s/it]"
          ]
        },
        {
          "name": "stdout",
          "output_type": "stream",
          "text": [
            "average_loss: 86.4117395067215\n"
          ]
        },
        {
          "name": "stderr",
          "output_type": "stream",
          "text": [
            " 54%|█████▎    | 107/200 [03:46<03:14,  2.09s/it]"
          ]
        },
        {
          "name": "stdout",
          "output_type": "stream",
          "text": [
            "average_loss: 89.4850816488266\n"
          ]
        },
        {
          "name": "stderr",
          "output_type": "stream",
          "text": [
            " 54%|█████▍    | 108/200 [03:48<03:12,  2.09s/it]"
          ]
        },
        {
          "name": "stdout",
          "output_type": "stream",
          "text": [
            "average_loss: 90.51078136920928\n"
          ]
        },
        {
          "name": "stderr",
          "output_type": "stream",
          "text": [
            " 55%|█████▍    | 109/200 [03:50<03:11,  2.10s/it]"
          ]
        },
        {
          "name": "stdout",
          "output_type": "stream",
          "text": [
            "average_loss: 88.54683721542358\n"
          ]
        },
        {
          "name": "stderr",
          "output_type": "stream",
          "text": [
            " 55%|█████▌    | 110/200 [03:52<03:09,  2.10s/it]"
          ]
        },
        {
          "name": "stdout",
          "output_type": "stream",
          "text": [
            "average_loss: 85.4011606502533\n"
          ]
        },
        {
          "name": "stderr",
          "output_type": "stream",
          "text": [
            " 56%|█████▌    | 111/200 [03:55<03:10,  2.14s/it]"
          ]
        },
        {
          "name": "stdout",
          "output_type": "stream",
          "text": [
            "average_loss: 82.77933536052704\n"
          ]
        },
        {
          "name": "stderr",
          "output_type": "stream",
          "text": [
            " 56%|█████▌    | 112/200 [03:57<03:11,  2.17s/it]"
          ]
        },
        {
          "name": "stdout",
          "output_type": "stream",
          "text": [
            "average_loss: 92.14061656475067\n"
          ]
        },
        {
          "name": "stderr",
          "output_type": "stream",
          "text": [
            " 56%|█████▋    | 113/200 [03:59<03:09,  2.18s/it]"
          ]
        },
        {
          "name": "stdout",
          "output_type": "stream",
          "text": [
            "average_loss: 78.30966061592102\n"
          ]
        },
        {
          "name": "stderr",
          "output_type": "stream",
          "text": [
            " 57%|█████▋    | 114/200 [04:01<03:11,  2.23s/it]"
          ]
        },
        {
          "name": "stdout",
          "output_type": "stream",
          "text": [
            "average_loss: 82.6217013812065\n"
          ]
        },
        {
          "name": "stderr",
          "output_type": "stream",
          "text": [
            " 57%|█████▊    | 115/200 [04:04<03:16,  2.31s/it]"
          ]
        },
        {
          "name": "stdout",
          "output_type": "stream",
          "text": [
            "average_loss: 90.84641487121581\n"
          ]
        },
        {
          "name": "stderr",
          "output_type": "stream",
          "text": [
            " 58%|█████▊    | 116/200 [04:06<03:12,  2.29s/it]"
          ]
        },
        {
          "name": "stdout",
          "output_type": "stream",
          "text": [
            "average_loss: 87.7195242023468\n"
          ]
        },
        {
          "name": "stderr",
          "output_type": "stream",
          "text": [
            " 58%|█████▊    | 117/200 [04:08<03:08,  2.28s/it]"
          ]
        },
        {
          "name": "stdout",
          "output_type": "stream",
          "text": [
            "average_loss: 85.08287870883942\n"
          ]
        },
        {
          "name": "stderr",
          "output_type": "stream",
          "text": [
            " 59%|█████▉    | 118/200 [04:11<03:07,  2.29s/it]"
          ]
        },
        {
          "name": "stdout",
          "output_type": "stream",
          "text": [
            "average_loss: 88.25668373107911\n"
          ]
        },
        {
          "name": "stderr",
          "output_type": "stream",
          "text": [
            " 60%|█████▉    | 119/200 [04:14<03:29,  2.59s/it]"
          ]
        },
        {
          "name": "stdout",
          "output_type": "stream",
          "text": [
            "average_loss: 105.44057993888855\n"
          ]
        },
        {
          "name": "stderr",
          "output_type": "stream",
          "text": [
            " 60%|██████    | 120/200 [04:16<03:23,  2.54s/it]"
          ]
        },
        {
          "name": "stdout",
          "output_type": "stream",
          "text": [
            "average_loss: 77.64223922252656\n"
          ]
        },
        {
          "name": "stderr",
          "output_type": "stream",
          "text": [
            " 60%|██████    | 121/200 [04:19<03:17,  2.50s/it]"
          ]
        },
        {
          "name": "stdout",
          "output_type": "stream",
          "text": [
            "average_loss: 74.45774839878082\n"
          ]
        },
        {
          "name": "stderr",
          "output_type": "stream",
          "text": [
            " 61%|██████    | 122/200 [04:22<03:20,  2.58s/it]"
          ]
        },
        {
          "name": "stdout",
          "output_type": "stream",
          "text": [
            "average_loss: 86.7104667210579\n"
          ]
        },
        {
          "name": "stderr",
          "output_type": "stream",
          "text": [
            " 62%|██████▏   | 123/200 [04:24<03:13,  2.52s/it]"
          ]
        },
        {
          "name": "stdout",
          "output_type": "stream",
          "text": [
            "average_loss: 82.49907334327698\n"
          ]
        },
        {
          "name": "stderr",
          "output_type": "stream",
          "text": [
            " 62%|██████▏   | 124/200 [04:26<03:09,  2.49s/it]"
          ]
        },
        {
          "name": "stdout",
          "output_type": "stream",
          "text": [
            "average_loss: 72.82514116048813\n"
          ]
        },
        {
          "name": "stderr",
          "output_type": "stream",
          "text": [
            " 62%|██████▎   | 125/200 [04:29<02:59,  2.40s/it]"
          ]
        },
        {
          "name": "stdout",
          "output_type": "stream",
          "text": [
            "average_loss: 77.35057127475739\n"
          ]
        },
        {
          "name": "stderr",
          "output_type": "stream",
          "text": [
            " 63%|██████▎   | 126/200 [04:31<02:55,  2.37s/it]"
          ]
        },
        {
          "name": "stdout",
          "output_type": "stream",
          "text": [
            "average_loss: 79.14652492046356\n"
          ]
        },
        {
          "name": "stderr",
          "output_type": "stream",
          "text": [
            " 64%|██████▎   | 127/200 [04:33<02:51,  2.35s/it]"
          ]
        },
        {
          "name": "stdout",
          "output_type": "stream",
          "text": [
            "average_loss: 74.03097384929657\n"
          ]
        },
        {
          "name": "stderr",
          "output_type": "stream",
          "text": [
            " 64%|██████▍   | 128/200 [04:36<02:51,  2.38s/it]"
          ]
        },
        {
          "name": "stdout",
          "output_type": "stream",
          "text": [
            "average_loss: 80.8542937040329\n"
          ]
        },
        {
          "name": "stderr",
          "output_type": "stream",
          "text": [
            " 64%|██████▍   | 129/200 [04:39<03:03,  2.58s/it]"
          ]
        },
        {
          "name": "stdout",
          "output_type": "stream",
          "text": [
            "average_loss: 77.70050154685974\n"
          ]
        },
        {
          "name": "stderr",
          "output_type": "stream",
          "text": [
            " 65%|██████▌   | 130/200 [04:41<03:03,  2.62s/it]"
          ]
        },
        {
          "name": "stdout",
          "output_type": "stream",
          "text": [
            "average_loss: 87.43635782003403\n"
          ]
        },
        {
          "name": "stderr",
          "output_type": "stream",
          "text": [
            " 66%|██████▌   | 131/200 [04:44<02:52,  2.49s/it]"
          ]
        },
        {
          "name": "stdout",
          "output_type": "stream",
          "text": [
            "average_loss: 64.9342154955864\n"
          ]
        },
        {
          "name": "stderr",
          "output_type": "stream",
          "text": [
            " 66%|██████▌   | 132/200 [04:47<03:01,  2.67s/it]"
          ]
        },
        {
          "name": "stdout",
          "output_type": "stream",
          "text": [
            "average_loss: 74.84183594465256\n"
          ]
        },
        {
          "name": "stderr",
          "output_type": "stream",
          "text": [
            " 66%|██████▋   | 133/200 [04:49<02:52,  2.58s/it]"
          ]
        },
        {
          "name": "stdout",
          "output_type": "stream",
          "text": [
            "average_loss: 75.06751957416535\n"
          ]
        },
        {
          "name": "stderr",
          "output_type": "stream",
          "text": [
            " 67%|██████▋   | 134/200 [04:51<02:42,  2.46s/it]"
          ]
        },
        {
          "name": "stdout",
          "output_type": "stream",
          "text": [
            "average_loss: 77.75616059780121\n"
          ]
        },
        {
          "name": "stderr",
          "output_type": "stream",
          "text": [
            " 68%|██████▊   | 135/200 [04:53<02:33,  2.36s/it]"
          ]
        },
        {
          "name": "stdout",
          "output_type": "stream",
          "text": [
            "average_loss: 80.12395874977112\n"
          ]
        },
        {
          "name": "stderr",
          "output_type": "stream",
          "text": [
            " 68%|██████▊   | 136/200 [04:55<02:28,  2.32s/it]"
          ]
        },
        {
          "name": "stdout",
          "output_type": "stream",
          "text": [
            "average_loss: 76.71069657564163\n"
          ]
        },
        {
          "name": "stderr",
          "output_type": "stream",
          "text": [
            " 68%|██████▊   | 137/200 [04:58<02:23,  2.28s/it]"
          ]
        },
        {
          "name": "stdout",
          "output_type": "stream",
          "text": [
            "average_loss: 72.53211141824723\n"
          ]
        },
        {
          "name": "stderr",
          "output_type": "stream",
          "text": [
            " 69%|██████▉   | 138/200 [05:00<02:16,  2.20s/it]"
          ]
        },
        {
          "name": "stdout",
          "output_type": "stream",
          "text": [
            "average_loss: 69.19340564012528\n"
          ]
        },
        {
          "name": "stderr",
          "output_type": "stream",
          "text": [
            " 70%|██████▉   | 139/200 [05:02<02:16,  2.23s/it]"
          ]
        },
        {
          "name": "stdout",
          "output_type": "stream",
          "text": [
            "average_loss: 92.55199183702469\n"
          ]
        },
        {
          "name": "stderr",
          "output_type": "stream",
          "text": [
            " 70%|███████   | 140/200 [05:04<02:13,  2.22s/it]"
          ]
        },
        {
          "name": "stdout",
          "output_type": "stream",
          "text": [
            "average_loss: 71.18770020723343\n"
          ]
        },
        {
          "name": "stderr",
          "output_type": "stream",
          "text": [
            " 70%|███████   | 141/200 [05:06<02:09,  2.19s/it]"
          ]
        },
        {
          "name": "stdout",
          "output_type": "stream",
          "text": [
            "average_loss: 66.40111124277115\n"
          ]
        },
        {
          "name": "stderr",
          "output_type": "stream",
          "text": [
            " 71%|███████   | 142/200 [05:08<02:04,  2.15s/it]"
          ]
        },
        {
          "name": "stdout",
          "output_type": "stream",
          "text": [
            "average_loss: 69.35344096422196\n"
          ]
        },
        {
          "name": "stderr",
          "output_type": "stream",
          "text": [
            " 72%|███████▏  | 143/200 [05:11<02:03,  2.16s/it]"
          ]
        },
        {
          "name": "stdout",
          "output_type": "stream",
          "text": [
            "average_loss: 84.26454641580581\n"
          ]
        },
        {
          "name": "stderr",
          "output_type": "stream",
          "text": [
            " 72%|███████▏  | 144/200 [05:13<01:57,  2.10s/it]"
          ]
        },
        {
          "name": "stdout",
          "output_type": "stream",
          "text": [
            "average_loss: 84.7824382019043\n"
          ]
        },
        {
          "name": "stderr",
          "output_type": "stream",
          "text": [
            " 72%|███████▎  | 145/200 [05:15<01:54,  2.08s/it]"
          ]
        },
        {
          "name": "stdout",
          "output_type": "stream",
          "text": [
            "average_loss: 62.994815273284914\n"
          ]
        },
        {
          "name": "stderr",
          "output_type": "stream",
          "text": [
            " 73%|███████▎  | 146/200 [05:17<01:53,  2.10s/it]"
          ]
        },
        {
          "name": "stdout",
          "output_type": "stream",
          "text": [
            "average_loss: 79.73183575868606\n"
          ]
        },
        {
          "name": "stderr",
          "output_type": "stream",
          "text": [
            " 74%|███████▎  | 147/200 [05:19<01:54,  2.16s/it]"
          ]
        },
        {
          "name": "stdout",
          "output_type": "stream",
          "text": [
            "average_loss: 79.58548528194427\n"
          ]
        },
        {
          "name": "stderr",
          "output_type": "stream",
          "text": [
            " 74%|███████▍  | 148/200 [05:21<01:50,  2.13s/it]"
          ]
        },
        {
          "name": "stdout",
          "output_type": "stream",
          "text": [
            "average_loss: 74.8761343216896\n"
          ]
        },
        {
          "name": "stderr",
          "output_type": "stream",
          "text": [
            " 74%|███████▍  | 149/200 [05:23<01:49,  2.15s/it]"
          ]
        },
        {
          "name": "stdout",
          "output_type": "stream",
          "text": [
            "average_loss: 71.23611419439315\n"
          ]
        },
        {
          "name": "stderr",
          "output_type": "stream",
          "text": [
            " 75%|███████▌  | 150/200 [05:26<01:50,  2.22s/it]"
          ]
        },
        {
          "name": "stdout",
          "output_type": "stream",
          "text": [
            "average_loss: 70.63335396051407\n"
          ]
        },
        {
          "name": "stderr",
          "output_type": "stream",
          "text": [
            " 76%|███████▌  | 151/200 [05:28<01:44,  2.14s/it]"
          ]
        },
        {
          "name": "stdout",
          "output_type": "stream",
          "text": [
            "average_loss: 78.71431890249252\n"
          ]
        },
        {
          "name": "stderr",
          "output_type": "stream",
          "text": [
            " 76%|███████▌  | 152/200 [05:30<01:39,  2.08s/it]"
          ]
        },
        {
          "name": "stdout",
          "output_type": "stream",
          "text": [
            "average_loss: 78.75133698701859\n"
          ]
        },
        {
          "name": "stderr",
          "output_type": "stream",
          "text": [
            " 76%|███████▋  | 153/200 [05:32<01:38,  2.11s/it]"
          ]
        },
        {
          "name": "stdout",
          "output_type": "stream",
          "text": [
            "average_loss: 74.11216582536697\n"
          ]
        },
        {
          "name": "stderr",
          "output_type": "stream",
          "text": [
            " 77%|███████▋  | 154/200 [05:34<01:36,  2.10s/it]"
          ]
        },
        {
          "name": "stdout",
          "output_type": "stream",
          "text": [
            "average_loss: 72.27279755592346\n"
          ]
        },
        {
          "name": "stderr",
          "output_type": "stream",
          "text": [
            " 78%|███████▊  | 155/200 [05:36<01:34,  2.09s/it]"
          ]
        },
        {
          "name": "stdout",
          "output_type": "stream",
          "text": [
            "average_loss: 75.51280110597611\n"
          ]
        },
        {
          "name": "stderr",
          "output_type": "stream",
          "text": [
            " 78%|███████▊  | 156/200 [05:38<01:32,  2.10s/it]"
          ]
        },
        {
          "name": "stdout",
          "output_type": "stream",
          "text": [
            "average_loss: 82.31304366588593\n"
          ]
        },
        {
          "name": "stderr",
          "output_type": "stream",
          "text": [
            " 78%|███████▊  | 157/200 [05:40<01:31,  2.14s/it]"
          ]
        },
        {
          "name": "stdout",
          "output_type": "stream",
          "text": [
            "average_loss: 70.27320420503617\n"
          ]
        },
        {
          "name": "stderr",
          "output_type": "stream",
          "text": [
            " 79%|███████▉  | 158/200 [05:43<01:31,  2.18s/it]"
          ]
        },
        {
          "name": "stdout",
          "output_type": "stream",
          "text": [
            "average_loss: 83.11713223934174\n"
          ]
        },
        {
          "name": "stderr",
          "output_type": "stream",
          "text": [
            " 80%|███████▉  | 159/200 [05:45<01:33,  2.29s/it]"
          ]
        },
        {
          "name": "stdout",
          "output_type": "stream",
          "text": [
            "average_loss: 88.83514346837997\n"
          ]
        },
        {
          "name": "stderr",
          "output_type": "stream",
          "text": [
            " 80%|████████  | 160/200 [05:47<01:29,  2.23s/it]"
          ]
        },
        {
          "name": "stdout",
          "output_type": "stream",
          "text": [
            "average_loss: 81.89560975790023\n"
          ]
        },
        {
          "name": "stderr",
          "output_type": "stream",
          "text": [
            " 80%|████████  | 161/200 [05:49<01:23,  2.14s/it]"
          ]
        },
        {
          "name": "stdout",
          "output_type": "stream",
          "text": [
            "average_loss: 71.8784665131569\n"
          ]
        },
        {
          "name": "stderr",
          "output_type": "stream",
          "text": [
            " 81%|████████  | 162/200 [05:51<01:20,  2.12s/it]"
          ]
        },
        {
          "name": "stdout",
          "output_type": "stream",
          "text": [
            "average_loss: 74.48288841247559\n"
          ]
        },
        {
          "name": "stderr",
          "output_type": "stream",
          "text": [
            " 82%|████████▏ | 163/200 [05:53<01:18,  2.11s/it]"
          ]
        },
        {
          "name": "stdout",
          "output_type": "stream",
          "text": [
            "average_loss: 77.05476721763611\n"
          ]
        },
        {
          "name": "stderr",
          "output_type": "stream",
          "text": [
            " 82%|████████▏ | 164/200 [05:55<01:15,  2.10s/it]"
          ]
        },
        {
          "name": "stdout",
          "output_type": "stream",
          "text": [
            "average_loss: 82.6809131860733\n"
          ]
        },
        {
          "name": "stderr",
          "output_type": "stream",
          "text": [
            " 82%|████████▎ | 165/200 [05:57<01:14,  2.13s/it]"
          ]
        },
        {
          "name": "stdout",
          "output_type": "stream",
          "text": [
            "average_loss: 78.98670192956925\n"
          ]
        },
        {
          "name": "stderr",
          "output_type": "stream",
          "text": [
            " 83%|████████▎ | 166/200 [06:00<01:15,  2.22s/it]"
          ]
        },
        {
          "name": "stdout",
          "output_type": "stream",
          "text": [
            "average_loss: 83.74079879283904\n"
          ]
        },
        {
          "name": "stderr",
          "output_type": "stream",
          "text": [
            " 84%|████████▎ | 167/200 [06:02<01:11,  2.16s/it]"
          ]
        },
        {
          "name": "stdout",
          "output_type": "stream",
          "text": [
            "average_loss: 78.39512425422669\n"
          ]
        },
        {
          "name": "stderr",
          "output_type": "stream",
          "text": [
            " 84%|████████▍ | 168/200 [06:04<01:10,  2.19s/it]"
          ]
        },
        {
          "name": "stdout",
          "output_type": "stream",
          "text": [
            "average_loss: 79.32068629980087\n"
          ]
        },
        {
          "name": "stderr",
          "output_type": "stream",
          "text": [
            " 84%|████████▍ | 169/200 [06:06<01:07,  2.18s/it]"
          ]
        },
        {
          "name": "stdout",
          "output_type": "stream",
          "text": [
            "average_loss: 67.67857064008713\n"
          ]
        },
        {
          "name": "stderr",
          "output_type": "stream",
          "text": [
            " 85%|████████▌ | 170/200 [06:09<01:09,  2.31s/it]"
          ]
        },
        {
          "name": "stdout",
          "output_type": "stream",
          "text": [
            "average_loss: 75.20052427530288\n"
          ]
        },
        {
          "name": "stderr",
          "output_type": "stream",
          "text": [
            " 86%|████████▌ | 171/200 [06:11<01:06,  2.30s/it]"
          ]
        },
        {
          "name": "stdout",
          "output_type": "stream",
          "text": [
            "average_loss: 80.87422888278961\n"
          ]
        },
        {
          "name": "stderr",
          "output_type": "stream",
          "text": [
            " 86%|████████▌ | 172/200 [06:13<01:02,  2.24s/it]"
          ]
        },
        {
          "name": "stdout",
          "output_type": "stream",
          "text": [
            "average_loss: 63.283477754592894\n"
          ]
        },
        {
          "name": "stderr",
          "output_type": "stream",
          "text": [
            " 86%|████████▋ | 173/200 [06:16<00:59,  2.21s/it]"
          ]
        },
        {
          "name": "stdout",
          "output_type": "stream",
          "text": [
            "average_loss: 68.84113877058029\n"
          ]
        },
        {
          "name": "stderr",
          "output_type": "stream",
          "text": [
            " 87%|████████▋ | 174/200 [06:18<00:56,  2.16s/it]"
          ]
        },
        {
          "name": "stdout",
          "output_type": "stream",
          "text": [
            "average_loss: 79.28107618570328\n"
          ]
        },
        {
          "name": "stderr",
          "output_type": "stream",
          "text": [
            " 88%|████████▊ | 175/200 [06:20<00:53,  2.15s/it]"
          ]
        },
        {
          "name": "stdout",
          "output_type": "stream",
          "text": [
            "average_loss: 60.77710389852524\n"
          ]
        },
        {
          "name": "stderr",
          "output_type": "stream",
          "text": [
            " 88%|████████▊ | 176/200 [06:22<00:50,  2.12s/it]"
          ]
        },
        {
          "name": "stdout",
          "output_type": "stream",
          "text": [
            "average_loss: 78.55326094627381\n"
          ]
        },
        {
          "name": "stderr",
          "output_type": "stream",
          "text": [
            " 88%|████████▊ | 177/200 [06:24<00:49,  2.15s/it]"
          ]
        },
        {
          "name": "stdout",
          "output_type": "stream",
          "text": [
            "average_loss: 71.00916452884674\n"
          ]
        },
        {
          "name": "stderr",
          "output_type": "stream",
          "text": [
            " 89%|████████▉ | 178/200 [06:26<00:47,  2.16s/it]"
          ]
        },
        {
          "name": "stdout",
          "output_type": "stream",
          "text": [
            "average_loss: 78.37016214132309\n"
          ]
        },
        {
          "name": "stderr",
          "output_type": "stream",
          "text": [
            " 90%|████████▉ | 179/200 [06:28<00:44,  2.11s/it]"
          ]
        },
        {
          "name": "stdout",
          "output_type": "stream",
          "text": [
            "average_loss: 73.25109013557434\n"
          ]
        },
        {
          "name": "stderr",
          "output_type": "stream",
          "text": [
            " 90%|█████████ | 180/200 [06:30<00:41,  2.08s/it]"
          ]
        },
        {
          "name": "stdout",
          "output_type": "stream",
          "text": [
            "average_loss: 70.17214162349701\n"
          ]
        },
        {
          "name": "stderr",
          "output_type": "stream",
          "text": [
            " 90%|█████████ | 181/200 [06:32<00:40,  2.11s/it]"
          ]
        },
        {
          "name": "stdout",
          "output_type": "stream",
          "text": [
            "average_loss: 73.20272673130036\n"
          ]
        },
        {
          "name": "stderr",
          "output_type": "stream",
          "text": [
            " 91%|█████████ | 182/200 [06:34<00:37,  2.10s/it]"
          ]
        },
        {
          "name": "stdout",
          "output_type": "stream",
          "text": [
            "average_loss: 76.93489194393158\n"
          ]
        },
        {
          "name": "stderr",
          "output_type": "stream",
          "text": [
            " 92%|█████████▏| 183/200 [06:36<00:35,  2.06s/it]"
          ]
        },
        {
          "name": "stdout",
          "output_type": "stream",
          "text": [
            "average_loss: 70.25381486654281\n"
          ]
        },
        {
          "name": "stderr",
          "output_type": "stream",
          "text": [
            " 92%|█████████▏| 184/200 [06:38<00:33,  2.07s/it]"
          ]
        },
        {
          "name": "stdout",
          "output_type": "stream",
          "text": [
            "average_loss: 69.58599183320999\n"
          ]
        },
        {
          "name": "stderr",
          "output_type": "stream",
          "text": [
            " 92%|█████████▎| 185/200 [06:40<00:30,  2.05s/it]"
          ]
        },
        {
          "name": "stdout",
          "output_type": "stream",
          "text": [
            "average_loss: 73.69198739767074\n"
          ]
        },
        {
          "name": "stderr",
          "output_type": "stream",
          "text": [
            " 93%|█████████▎| 186/200 [06:43<00:28,  2.06s/it]"
          ]
        },
        {
          "name": "stdout",
          "output_type": "stream",
          "text": [
            "average_loss: 74.16500748157502\n"
          ]
        },
        {
          "name": "stderr",
          "output_type": "stream",
          "text": [
            " 94%|█████████▎| 187/200 [06:45<00:27,  2.10s/it]"
          ]
        },
        {
          "name": "stdout",
          "output_type": "stream",
          "text": [
            "average_loss: 75.83364720106125\n"
          ]
        },
        {
          "name": "stderr",
          "output_type": "stream",
          "text": [
            " 94%|█████████▍| 188/200 [06:47<00:25,  2.09s/it]"
          ]
        },
        {
          "name": "stdout",
          "output_type": "stream",
          "text": [
            "average_loss: 71.33286611318589\n"
          ]
        },
        {
          "name": "stderr",
          "output_type": "stream",
          "text": [
            " 94%|█████████▍| 189/200 [06:49<00:23,  2.16s/it]"
          ]
        },
        {
          "name": "stdout",
          "output_type": "stream",
          "text": [
            "average_loss: 67.13434269189834\n"
          ]
        },
        {
          "name": "stderr",
          "output_type": "stream",
          "text": [
            " 95%|█████████▌| 190/200 [06:51<00:21,  2.12s/it]"
          ]
        },
        {
          "name": "stdout",
          "output_type": "stream",
          "text": [
            "average_loss: 61.87285483360291\n"
          ]
        },
        {
          "name": "stderr",
          "output_type": "stream",
          "text": [
            " 96%|█████████▌| 191/200 [06:53<00:19,  2.12s/it]"
          ]
        },
        {
          "name": "stdout",
          "output_type": "stream",
          "text": [
            "average_loss: 64.22612169265747\n"
          ]
        },
        {
          "name": "stderr",
          "output_type": "stream",
          "text": [
            " 96%|█████████▌| 192/200 [06:55<00:16,  2.10s/it]"
          ]
        },
        {
          "name": "stdout",
          "output_type": "stream",
          "text": [
            "average_loss: 72.29245329618453\n"
          ]
        },
        {
          "name": "stderr",
          "output_type": "stream",
          "text": [
            " 96%|█████████▋| 193/200 [06:57<00:14,  2.12s/it]"
          ]
        },
        {
          "name": "stdout",
          "output_type": "stream",
          "text": [
            "average_loss: 65.1352095913887\n"
          ]
        },
        {
          "name": "stderr",
          "output_type": "stream",
          "text": [
            " 97%|█████████▋| 194/200 [07:00<00:12,  2.12s/it]"
          ]
        },
        {
          "name": "stdout",
          "output_type": "stream",
          "text": [
            "average_loss: 70.92510806560516\n"
          ]
        },
        {
          "name": "stderr",
          "output_type": "stream",
          "text": [
            " 98%|█████████▊| 195/200 [07:02<00:10,  2.18s/it]"
          ]
        },
        {
          "name": "stdout",
          "output_type": "stream",
          "text": [
            "average_loss: 54.21796358346939\n"
          ]
        },
        {
          "name": "stderr",
          "output_type": "stream",
          "text": [
            " 98%|█████████▊| 196/200 [07:04<00:09,  2.27s/it]"
          ]
        },
        {
          "name": "stdout",
          "output_type": "stream",
          "text": [
            "average_loss: 55.57625291109085\n"
          ]
        },
        {
          "name": "stderr",
          "output_type": "stream",
          "text": [
            " 98%|█████████▊| 197/200 [07:07<00:06,  2.26s/it]"
          ]
        },
        {
          "name": "stdout",
          "output_type": "stream",
          "text": [
            "average_loss: 55.50357800722122\n"
          ]
        },
        {
          "name": "stderr",
          "output_type": "stream",
          "text": [
            " 99%|█████████▉| 198/200 [07:09<00:04,  2.25s/it]"
          ]
        },
        {
          "name": "stdout",
          "output_type": "stream",
          "text": [
            "average_loss: 63.30106657028198\n"
          ]
        },
        {
          "name": "stderr",
          "output_type": "stream",
          "text": [
            "100%|█████████▉| 199/200 [07:11<00:02,  2.19s/it]"
          ]
        },
        {
          "name": "stdout",
          "output_type": "stream",
          "text": [
            "average_loss: 53.877347395420074\n"
          ]
        },
        {
          "name": "stderr",
          "output_type": "stream",
          "text": [
            "100%|██████████| 200/200 [07:13<00:00,  2.17s/it]"
          ]
        },
        {
          "name": "stdout",
          "output_type": "stream",
          "text": [
            "average_loss: 60.31931686401367\n",
            "Finishing training!\n",
            "Save the model...\n",
            "Model save to  trained_model\\Q_network_heuristic_policy_202305161532_ep200.pth  !\n",
            "Save the figure...\n"
          ]
        },
        {
          "name": "stderr",
          "output_type": "stream",
          "text": [
            "\n"
          ]
        },
        {
          "data": {
            "image/png": "[encoded data removed]",
            "text/plain": [
              "<Figure size 640x480 with 1 Axes>"
            ]
          },
          "metadata": {},
          "output_type": "display_data"
        }
      ],
      "source": [
        "# Write a loop in which the HeuristicPendulumAgent collects experience and stores it in the replay\n",
        "# buffer. At each step, sample a batch of transitions from the replay buffer (uniformly at random,\n",
        "# batch size 128) and feed them to the 1-step TD-learning rule that you have implemented. At each\n",
        "# step, store the loss of the Q network. \n",
        "import copy\n",
        "env = gym.make(\"Pendulum-v1\")\n",
        "num_episode=200\n",
        "batch_size=128\n",
        "buffer_size=10000\n",
        "gamma=0.99\n",
        "learning_rate=1e-4\n",
        "sum_loss=0\n",
        "list_average_loss=[]\n",
        "device = torch.device(\"cuda\" if torch.cuda.is_available() else \"cpu\")\n",
        "print('device:',device)\n",
        "# initialize the Q network \n",
        "Q_network=QNetwork().to(device)\n",
        "Q_target=QNetwork().to(device)\n",
        "Q_target.load_state_dict(Q_network.state_dict())\n",
        "# define a optimizer for the QNetwork\n",
        "optimizer = torch.optim.Adam(Q_network.parameters(), learning_rate)\n",
        "# define replay buffer\n",
        "replay_buffer=ReplayBuffer(buffer_size)\n",
        "# define agent\n",
        "agent = HeuristicPendulumAgent(env)\n",
        "num_step=200\n",
        "\n",
        "normalized_env = NormalizedEnv(env)\n",
        "print('Start training...')\n",
        "for episode in tqdm(range(num_episode)):\n",
        "    # print('episode number:',episode,'/',num_episode,'...')\n",
        "    # initialize the sum_loss for each episode\n",
        "    sum_loss=0\n",
        "    last_step=False\n",
        "    # renew the environment for every episode\n",
        "    if colab:\n",
        "      # if running in google colab\n",
        "      state= env.reset()\n",
        "    else:\n",
        "      # if running in own computer\n",
        "      state, info = env.reset()\n",
        "    \n",
        "    for step in range(num_step):\n",
        "        # print('step:',step,'/',num_step,'...')\n",
        "        \n",
        "        # add transition to replay buffer, and kick out the old one if the buffer is full\n",
        "        action = agent.compute_action(state)\n",
        "        # print('action:',action)\n",
        "        normalized_action = normalized_env.action(action)\n",
        "        # print('normalized_action:',normalized_action)\n",
        "        \n",
        "        if colab:\n",
        "          # if running in google colab\n",
        "          # for colab there only have one for terminated and truncated, not sure which one is, \n",
        "          # but since here we don't need both of them so it's fine\n",
        "          next_state, reward, truncated, info = env.step(normalized_action)\n",
        "          # print(next_state, reward, truncated, info)\n",
        "        else:\n",
        "          # if running in own computer\n",
        "          next_state, reward, terminated,truncated, info = env.step(normalized_action)\n",
        "        \n",
        "        transition=(state, action, reward, next_state, truncated)\n",
        "        replay_buffer.add(transition)\n",
        "        state=next_state.copy()\n",
        "\n",
        "        if len(replay_buffer) < batch_size:\n",
        "            print(\"The replay buffer does not have enough transitions.\")\n",
        "            continue\n",
        "    \n",
        "        # sample a batch of transitions from the replay buffer\n",
        "        batch = replay_buffer.sample(batch_size)\n",
        "\n",
        "        # if it is last step, set last_step=True\n",
        "        if step==num_step-1:\n",
        "            last_step=True\n",
        "\n",
        "        # TODO: check with TA if it is correct for giving only one Q_network\n",
        "        loss,Q_network=train_QNetwork(Q_network,Q_target,normalized_env,agent, batch, gamma, optimizer,last_step,device,fix_torque=1)\n",
        "        # print('loss:',loss)\n",
        "        # if loss is not None:\n",
        "        sum_loss+=loss\n",
        "        # for param, target_param in zip(Q_network.parameters(), Q_target.parameters()):\n",
        "        #         print(\"BEFORE param:\",param[0],param[0].requires_grad,\"target_param:\",target_param[0],target_param[0].requires_grad)\n",
        "        #         break\n",
        "       \n",
        "        Q_target.load_state_dict(Q_network.state_dict())\n",
        "        # print(\"Q_network:\",Q_network.fc1.weight.grad[0])\n",
        "\n",
        "        # for param, target_param in zip(Q_network.parameters(), Q_target.parameters()):\n",
        "        #         print(\"AFTER param:\",param[0],param[0].requires_grad,\"target_param:\",target_param[0],target_param[0].requires_grad)\n",
        "        #         break\n",
        "\n",
        "    average_loss=sum_loss/num_step\n",
        "    # print('average_loss:',average_loss)\n",
        "    list_average_loss.append(average_loss)\n",
        "print('Finishing training!')\n",
        "print('Save the model...')\n",
        "# save the model with path name with real-time date and time\n",
        "save_path= os.path.join('trained_model','Q_network_heuristic_policy_'+datetime.datetime.now().strftime(\"%Y%m%d%H%M\")+'_ep'+str(num_episode)+'.pth')\n",
        "torch.save(Q_network.state_dict(), save_path)\n",
        "print('Model save to ',save_path,' !')\n",
        "\n",
        "list_number_episodes = np.linspace(1,num_episode,num = num_episode)\n",
        "plt.plot(list_number_episodes,list_average_loss)\n",
        "plt.xlabel('Number of episodes')\n",
        "plt.ylabel('Average loss per episode')\n",
        "plt.title('Average loss per episode obtained by the heuristic policy')\n",
        "print('Save the figure...')\n",
        "image_path=os.path.join('figure','4_TrainingCruveofQnetwork__'+datetime.datetime.now().strftime(\"%Y%m%d%H%M\")+'_ep'+str(num_episode)+'.png')\n",
        "plt.savefig(image_path)\n",
        "plt.show()\n",
        "\n",
        "env.close()\n"
      ]
    },
    {
      "cell_type": "code",
      "execution_count": null,
      "metadata": {
        "id": "R1bTLP5cbofI"
      },
      "outputs": [],
      "source": [
        "# get the model weight\n",
        "model_path=os.path.join('trained_model','Q_network_heuristic_policy_xxx.pth')\n",
        "# initialize the Q network with the stored model\n",
        "Q_network=QNetwork()\n",
        "Q_network.load_state_dict(torch.load(model_path))"
      ]
    },
    {
      "cell_type": "code",
      "execution_count": null,
      "metadata": {
        "colab": {
          "base_uri": "https://localhost:8080/",
          "height": 296
        },
        "id": "TMvs50E_bofJ",
        "outputId": "1fb6392e-5fe2-4de6-d0e3-aef76e8c60e1"
      },
      "outputs": [
        {
          "name": "stdout",
          "output_type": "stream",
          "text": [
            "here\n",
            "Start training...\n",
            "episode number: 0 / 1000 ...\n"
          ]
        },
        {
          "ename": "ValueError",
          "evalue": "ignored",
          "output_type": "error",
          "traceback": [
            "\u001b[0;31m---------------------------------------------------------------------------\u001b[0m",
            "\u001b[0;31mValueError\u001b[0m                                Traceback (most recent call last)",
            "\u001b[0;32m<ipython-input-39-1b20e1808e2b>\u001b[0m in \u001b[0;36m<cell line: 26>\u001b[0;34m()\u001b[0m\n\u001b[1;32m     27\u001b[0m     \u001b[0mprint\u001b[0m\u001b[0;34m(\u001b[0m\u001b[0;34m'episode number:'\u001b[0m\u001b[0;34m,\u001b[0m\u001b[0mepisode\u001b[0m\u001b[0;34m,\u001b[0m\u001b[0;34m'/'\u001b[0m\u001b[0;34m,\u001b[0m\u001b[0mnum_episode\u001b[0m\u001b[0;34m,\u001b[0m\u001b[0;34m'...'\u001b[0m\u001b[0;34m)\u001b[0m\u001b[0;34m\u001b[0m\u001b[0;34m\u001b[0m\u001b[0m\n\u001b[1;32m     28\u001b[0m     \u001b[0;31m# renew the environment for every episode\u001b[0m\u001b[0;34m\u001b[0m\u001b[0;34m\u001b[0m\u001b[0m\n\u001b[0;32m---> 29\u001b[0;31m     \u001b[0mstate\u001b[0m\u001b[0;34m,\u001b[0m \u001b[0minfo\u001b[0m \u001b[0;34m=\u001b[0m \u001b[0menv\u001b[0m\u001b[0;34m.\u001b[0m\u001b[0mreset\u001b[0m\u001b[0;34m(\u001b[0m\u001b[0;34m)\u001b[0m\u001b[0;34m\u001b[0m\u001b[0;34m\u001b[0m\u001b[0m\n\u001b[0m\u001b[1;32m     30\u001b[0m \u001b[0;34m\u001b[0m\u001b[0m\n\u001b[1;32m     31\u001b[0m     \u001b[0;32mfor\u001b[0m \u001b[0mstep\u001b[0m \u001b[0;32min\u001b[0m \u001b[0mrange\u001b[0m\u001b[0;34m(\u001b[0m\u001b[0mnum_step\u001b[0m\u001b[0;34m)\u001b[0m\u001b[0;34m:\u001b[0m\u001b[0;34m\u001b[0m\u001b[0;34m\u001b[0m\u001b[0m\n",
            "\u001b[0;31mValueError\u001b[0m: too many values to unpack (expected 2)"
          ]
        }
      ],
      "source": [
        "# plot polar heatmap \n",
        "\n",
        "# training the Q_Network\n",
        "import copy\n",
        "env = gym.make(\"Pendulum-v1\")\n",
        "print('here')\n",
        "num_episode=10\n",
        "batch_size=128\n",
        "buffer_size=10000\n",
        "gamma=0.99\n",
        "learning_rate=1e-4\n",
        "# initialize the Q network \n",
        "Q_network=QNetwork()\n",
        "Q_target=QNetwork()\n",
        "Q_target.load_state_dict(Q_network.state_dict())\n",
        "# define a optimizer for the QNetwork\n",
        "optimizer = torch.optim.Adam(Q_network.parameters(), learning_rate)\n",
        "# define replay buffer\n",
        "replay_buffer=ReplayBuffer(buffer_size)\n",
        "# define agent\n",
        "agent = HeuristicPendulumAgent(env)\n",
        "num_step=200\n",
        "\n",
        "normalized_env = NormalizedEnv(env)\n",
        "print('Start training...')\n",
        "for episode in range(num_episode):\n",
        "    print('episode number:',episode,'/',num_episode,'...')\n",
        "    # renew the environment for every episode\n",
        "    state, info = env.reset()\n",
        "    \n",
        "    for step in range(num_step):\n",
        "        action = agent.compute_action(state)\n",
        "        normalized_action = normalized_env.action(action)\n",
        "        next_state, reward, terminated, truncated, info = env.step(normalized_action)\n",
        "        transition=(state, normalized_action, reward, next_state, truncated)\n",
        "        replay_buffer.add(transition)\n",
        "        state=next_state\n",
        "\n",
        "        if len(replay_buffer) < batch_size:\n",
        "            print(\"The replay buffer does not have enough transitions.\")\n",
        "            continue\n",
        "    \n",
        "        # sample a batch of transitions from the replay buffer\n",
        "        batch = replay_buffer.sample(batch_size)\n",
        "\n",
        "        loss,Q_network=train_QNetwork(Q_network,Q_target,normalized_env,agent, batch, gamma, optimizer)\n",
        "        Q_target.load_state_dict(Q_network.state_dict())\n",
        "print('finished training...')\n",
        "\n",
        "#action_values= np.random.uniform(-2, 2,5)\n",
        "#velocity_values= np.random.uniform(-5, 5,5)\n",
        "action_values= [-2,-1,0,1,2]\n",
        "velocity_values=[-5,-2.5,0,2.5,5]\n",
        "angles=np.linspace(0,2*np.pi,360)\n",
        "angles_cosinus=[np.cos(ang) for ang in angles]\n",
        "angles_sinus=[np.sin(ang) for ang in angles]\n",
        "\n",
        "\n",
        "for j in range(5):\n",
        "    Q_network_before_training=QNetwork()\n",
        "    states=[np.append(np.append(angles_cosinus[i],angles_sinus[i]),velocity_values[j]) for i in range(360)]\n",
        "    #print('states= ', states)\n",
        "    inputs=torch.tensor([np.append(states[i],action_values[j]) for i in range(360)], dtype=torch.float32)\n",
        "    print ('*******************************************************************************************')\n",
        "    print('(action',j+1,'=',action_values[j], ', velocity',j+1,'=',velocity_values[j], ')')\n",
        "    Q_values_before_training=Q_network_before_training(inputs)\n",
        "    Q_values_before_training=Q_values_before_training.detach().numpy()\n",
        "    print ('before training!')\n",
        "    # print('Q_values before training = ', Q_values_before_training)\n",
        "    Q_Matrix_before_training=Q_values_before_training\n",
        "    for i in range(359):\n",
        "        Q_Matrix_before_training=np.column_stack((Q_Matrix_before_training,Q_values_before_training))\n",
        "    fig_before_training = plt.figure()\n",
        "    rad=np.linspace(0,5,360)\n",
        "    r,th=np.meshgrid(rad,angles)\n",
        "    ax_before_training = fig_before_training.add_subplot(111, polar=True)\n",
        "    p_before_training = ax_before_training.pcolormesh(th, r, Q_Matrix_before_training)\n",
        "    fig_before_training.colorbar(p_before_training)\n",
        "    plt.show()\n",
        "\n",
        "    Q_values_after_training = Q_network(inputs)\n",
        "    Q_values_after_training = Q_values_after_training.detach().numpy()\n",
        "    print ('after training!')\n",
        "    # print('Q_values after training = ', Q_values_after_training)\n",
        "    Q_Matrix_after_training = Q_values_after_training\n",
        "    for i in range(359):\n",
        "        Q_Matrix_after_training=np.column_stack((Q_Matrix_after_training,Q_values_after_training))\n",
        "    fig_after_training = plt.figure()\n",
        "    ax_after_training = fig_after_training.add_subplot(111, polar=True)\n",
        "    p_after_training = ax_after_training.pcolormesh(th, r, Q_Matrix_after_training)\n",
        "    fig_after_training.colorbar(p_after_training)\n",
        "    plt.show()\n"
      ]
    },
    {
      "attachments": {},
      "cell_type": "markdown",
      "metadata": {
        "id": "mb4c49r6bofJ"
      },
      "source": [
        "## Part 5 Minimal implementation of DDPG"
      ]
    },
    {
      "cell_type": "code",
      "execution_count": null,
      "metadata": {
        "id": "wzt5v_IhbofK"
      },
      "outputs": [],
      "source": [
        "# PolicyNetwork\n",
        "class PolicyNetwork(nn.Module):\n",
        "    def __init__(self, input_dim=3, output_dim=1, hidden_dim=32):\n",
        "        super(PolicyNetwork, self).__init__()\n",
        "        # input_dim: dimension of the input -> 3 elements of the state\n",
        "        # hidden_dim: dimension of one hidden layer -> 32 nodes\n",
        "        # output_dim: dimension of action -> a scalar (action)\n",
        "        self.fc1 = nn.Linear(input_dim, hidden_dim)\n",
        "        self.fc2 = nn.Linear(hidden_dim, hidden_dim)\n",
        "        self.fc3 = nn.Linear(hidden_dim, output_dim)\n",
        "        \n",
        "    def forward(self, state):\n",
        "        # state: state -> 3 elements of the state\n",
        "        # return action \n",
        "        x = F.relu(self.fc1(state))\n",
        "        x = F.relu(self.fc2(x))\n",
        "        # apply tanh to restrict the action in the range [-1, 1]\n",
        "        x = F.tanh(self.fc3(x))\n",
        "\n",
        "        return x"
      ]
    },
    {
      "cell_type": "code",
      "execution_count": null,
      "metadata": {
        "id": "jryCbhoGbofK"
      },
      "outputs": [],
      "source": [
        "#GaussianActionNoise\n",
        "class GaussianActionNoise():\n",
        "    def __init__(self, sigma):\n",
        "        self.sigma = sigma\n",
        "        self.mu=0\n",
        "    def get_noisy_action(self,action):\n",
        "        noise = np.random.normal(self.mu,self.sigma)\n",
        "        noisy_action = action + noise\n",
        "        # clip the noisy action to be in the range [-1, 1]\n",
        "        noisy_action = np.clip(noisy_action, -1, 1)\n",
        "        return noisy_action"
      ]
    },
    {
      "cell_type": "code",
      "execution_count": null,
      "metadata": {
        "id": "uwg2hyLobofL"
      },
      "outputs": [],
      "source": [
        "# DDPGAgent\n",
        "class DDPGAgent():\n",
        "    def __init__(self,env,sigma):\n",
        "        self.state_size = env.observation_space.shape[0]\n",
        "        self.action_size = env.action_space.shape[0]\n",
        "        self.agent_name='DDPGAgent'\n",
        "        self.action_noise=GaussianActionNoise(sigma)\n",
        "\n",
        "    def compute_action(self,policy_network,state,deterministic=True):\n",
        "        # deterministic: regulates whether to add random noise to the action or not\n",
        "        with torch.no_grad():\n",
        "            # convert state to tensor\n",
        "            state = torch.tensor(state, dtype=torch.float)\n",
        "            # compute the action\n",
        "            action = policy_network(state)\n",
        "            if not deterministic:\n",
        "                # add random noise to the action\n",
        "                action = self.action_noise.get_noisy_action(action)\n",
        "            # convert action to numpy array\n",
        "            action = action.numpy()\n",
        "        return action"
      ]
    },
    {
      "cell_type": "code",
      "execution_count": null,
      "metadata": {
        "id": "GYuPp-HpbofL"
      },
      "outputs": [],
      "source": [
        "# Train PolicyNetwork\n",
        "def train_PolicyNetwork(policy_network,Q_network, batch, optimizer,device):\n",
        "    # print(\"HERE TRAIN\")\n",
        "    # optimizer: optimizer\n",
        "    \n",
        "    # unpack the batch of transitions\n",
        "    state_batch=torch.tensor([transition[0] for transition in batch], dtype=torch.float).to(device)\n",
        "\n",
        "    # clear the gradients of the optimizer\n",
        "    optimizer.zero_grad()\n",
        "\n",
        "    \n",
        "    # policy_network: policy use for action selection\n",
        "    predicted_action = policy_network(state_batch)\n",
        "    # with torch.no_grad():\n",
        "    # compute the Q values of the current state + predicted action pair\n",
        "    Q_values = Q_network(torch.cat((state_batch,predicted_action),1).to(device))\n",
        "        \n",
        "    # print(\"Q_values:\",Q_values)\n",
        "    # print(' -Q_values.mean():', -Q_values.mean())\n",
        "    # compute the loss\n",
        "    loss = -Q_values.mean()\n",
        "    \n",
        "    \n",
        "    # compute the gradients of the loss\n",
        "    loss.backward()\n",
        "    \n",
        "    # update the weights of the Q network\n",
        "    optimizer.step()\n",
        "    \n",
        "    return loss.item(), policy_network, predicted_action"
      ]
    },
    {
      "cell_type": "code",
      "execution_count": null,
      "metadata": {
        "id": "kymBF3jCbofM",
        "outputId": "caeca969-10de-46a1-86db-1e3891e0b8b1"
      },
      "outputs": [
        {
          "name": "stdout",
          "output_type": "stream",
          "text": [
            "Start training...\n"
          ]
        },
        {
          "name": "stderr",
          "output_type": "stream",
          "text": [
            "  0%|          | 0/1000 [00:00<?, ?it/s]"
          ]
        },
        {
          "name": "stdout",
          "output_type": "stream",
          "text": [
            "The replay buffer does not have enough transitions.\n",
            "The replay buffer does not have enough transitions.\n",
            "The replay buffer does not have enough transitions.\n",
            "The replay buffer does not have enough transitions.\n",
            "The replay buffer does not have enough transitions.\n",
            "The replay buffer does not have enough transitions.\n",
            "The replay buffer does not have enough transitions.\n",
            "The replay buffer does not have enough transitions.\n",
            "The replay buffer does not have enough transitions.\n",
            "The replay buffer does not have enough transitions.\n",
            "The replay buffer does not have enough transitions.\n",
            "The replay buffer does not have enough transitions.\n",
            "The replay buffer does not have enough transitions.\n",
            "The replay buffer does not have enough transitions.\n",
            "The replay buffer does not have enough transitions.\n",
            "The replay buffer does not have enough transitions.\n",
            "The replay buffer does not have enough transitions.\n",
            "The replay buffer does not have enough transitions.\n",
            "The replay buffer does not have enough transitions.\n",
            "The replay buffer does not have enough transitions.\n",
            "The replay buffer does not have enough transitions.\n",
            "The replay buffer does not have enough transitions.\n",
            "The replay buffer does not have enough transitions.\n",
            "The replay buffer does not have enough transitions.\n",
            "The replay buffer does not have enough transitions.\n",
            "The replay buffer does not have enough transitions.\n",
            "The replay buffer does not have enough transitions.\n",
            "The replay buffer does not have enough transitions.\n",
            "The replay buffer does not have enough transitions.\n",
            "The replay buffer does not have enough transitions.\n",
            "The replay buffer does not have enough transitions.\n",
            "The replay buffer does not have enough transitions.\n",
            "The replay buffer does not have enough transitions.\n",
            "The replay buffer does not have enough transitions.\n",
            "The replay buffer does not have enough transitions.\n",
            "The replay buffer does not have enough transitions.\n",
            "The replay buffer does not have enough transitions.\n",
            "The replay buffer does not have enough transitions.\n",
            "The replay buffer does not have enough transitions.\n",
            "The replay buffer does not have enough transitions.\n",
            "The replay buffer does not have enough transitions.\n",
            "The replay buffer does not have enough transitions.\n",
            "The replay buffer does not have enough transitions.\n",
            "The replay buffer does not have enough transitions.\n",
            "The replay buffer does not have enough transitions.\n",
            "The replay buffer does not have enough transitions.\n",
            "The replay buffer does not have enough transitions.\n",
            "The replay buffer does not have enough transitions.\n",
            "The replay buffer does not have enough transitions.\n",
            "The replay buffer does not have enough transitions.\n",
            "The replay buffer does not have enough transitions.\n",
            "The replay buffer does not have enough transitions.\n",
            "The replay buffer does not have enough transitions.\n",
            "The replay buffer does not have enough transitions.\n",
            "The replay buffer does not have enough transitions.\n",
            "The replay buffer does not have enough transitions.\n",
            "The replay buffer does not have enough transitions.\n",
            "The replay buffer does not have enough transitions.\n",
            "The replay buffer does not have enough transitions.\n",
            "The replay buffer does not have enough transitions.\n",
            "The replay buffer does not have enough transitions.\n",
            "The replay buffer does not have enough transitions.\n",
            "The replay buffer does not have enough transitions.\n",
            "The replay buffer does not have enough transitions.\n",
            "The replay buffer does not have enough transitions.\n",
            "The replay buffer does not have enough transitions.\n",
            "The replay buffer does not have enough transitions.\n",
            "The replay buffer does not have enough transitions.\n",
            "The replay buffer does not have enough transitions.\n",
            "The replay buffer does not have enough transitions.\n",
            "The replay buffer does not have enough transitions.\n",
            "The replay buffer does not have enough transitions.\n",
            "The replay buffer does not have enough transitions.\n",
            "The replay buffer does not have enough transitions.\n",
            "The replay buffer does not have enough transitions.\n",
            "The replay buffer does not have enough transitions.\n",
            "The replay buffer does not have enough transitions.\n",
            "The replay buffer does not have enough transitions.\n",
            "The replay buffer does not have enough transitions.\n",
            "The replay buffer does not have enough transitions.\n",
            "The replay buffer does not have enough transitions.\n",
            "The replay buffer does not have enough transitions.\n",
            "The replay buffer does not have enough transitions.\n",
            "The replay buffer does not have enough transitions.\n",
            "The replay buffer does not have enough transitions.\n",
            "The replay buffer does not have enough transitions.\n",
            "The replay buffer does not have enough transitions.\n",
            "The replay buffer does not have enough transitions.\n",
            "The replay buffer does not have enough transitions.\n",
            "The replay buffer does not have enough transitions.\n",
            "The replay buffer does not have enough transitions.\n",
            "The replay buffer does not have enough transitions.\n",
            "The replay buffer does not have enough transitions.\n",
            "The replay buffer does not have enough transitions.\n",
            "The replay buffer does not have enough transitions.\n",
            "The replay buffer does not have enough transitions.\n",
            "The replay buffer does not have enough transitions.\n",
            "The replay buffer does not have enough transitions.\n",
            "The replay buffer does not have enough transitions.\n",
            "The replay buffer does not have enough transitions.\n",
            "The replay buffer does not have enough transitions.\n",
            "The replay buffer does not have enough transitions.\n",
            "The replay buffer does not have enough transitions.\n",
            "The replay buffer does not have enough transitions.\n",
            "The replay buffer does not have enough transitions.\n",
            "The replay buffer does not have enough transitions.\n",
            "The replay buffer does not have enough transitions.\n",
            "The replay buffer does not have enough transitions.\n",
            "The replay buffer does not have enough transitions.\n",
            "The replay buffer does not have enough transitions.\n",
            "The replay buffer does not have enough transitions.\n",
            "The replay buffer does not have enough transitions.\n",
            "The replay buffer does not have enough transitions.\n",
            "The replay buffer does not have enough transitions.\n",
            "The replay buffer does not have enough transitions.\n",
            "The replay buffer does not have enough transitions.\n",
            "The replay buffer does not have enough transitions.\n",
            "The replay buffer does not have enough transitions.\n",
            "The replay buffer does not have enough transitions.\n",
            "The replay buffer does not have enough transitions.\n",
            "The replay buffer does not have enough transitions.\n",
            "The replay buffer does not have enough transitions.\n",
            "The replay buffer does not have enough transitions.\n",
            "The replay buffer does not have enough transitions.\n",
            "The replay buffer does not have enough transitions.\n",
            "The replay buffer does not have enough transitions.\n",
            "The replay buffer does not have enough transitions.\n"
          ]
        },
        {
          "name": "stderr",
          "output_type": "stream",
          "text": [
            "  0%|          | 1/1000 [00:18<5:03:44, 18.24s/it]\n"
          ]
        },
        {
          "ename": "KeyboardInterrupt",
          "evalue": "",
          "output_type": "error",
          "traceback": [
            "\u001b[1;31m---------------------------------------------------------------------------\u001b[0m",
            "\u001b[1;31mKeyboardInterrupt\u001b[0m                         Traceback (most recent call last)",
            "Cell \u001b[1;32mIn[26], line 74\u001b[0m\n\u001b[0;32m     71\u001b[0m     last_step\u001b[39m=\u001b[39m\u001b[39mTrue\u001b[39;00m\n\u001b[0;32m     73\u001b[0m \u001b[39m# TODO: check with TA if it is correct \u001b[39;00m\n\u001b[1;32m---> 74\u001b[0m loss_Q_network,Q_network\u001b[39m=\u001b[39mtrain_QNetwork(Q_network,Q_target,normalized_env,agent, batch, gamma, optimizer,last_step,device,fix_torque\u001b[39m=\u001b[39;49m\u001b[39mNone\u001b[39;49;00m,policy_network\u001b[39m=\u001b[39;49mpolicy_network,deterministic\u001b[39m=\u001b[39;49mdeterministic)\n\u001b[0;32m     75\u001b[0m \u001b[39mif\u001b[39;00m loss_Q_network \u001b[39mis\u001b[39;00m \u001b[39mnot\u001b[39;00m \u001b[39mNone\u001b[39;00m:\n\u001b[0;32m     76\u001b[0m     sum_loss_Q_network\u001b[39m+\u001b[39m\u001b[39m=\u001b[39mloss_Q_network\n",
            "Cell \u001b[1;32mIn[16], line 20\u001b[0m, in \u001b[0;36mtrain_QNetwork\u001b[1;34m(Q_network, Q_target, normalized_env, agent, batch, gamma, optimizer, last_step, device, fix_torque, policy_network, deterministic)\u001b[0m\n\u001b[0;32m     18\u001b[0m     target_batch\u001b[39m=\u001b[39mtorch\u001b[39m.\u001b[39mtensor([np\u001b[39m.\u001b[39mappend(transition[\u001b[39m3\u001b[39m], normalized_env\u001b[39m.\u001b[39maction(agent\u001b[39m.\u001b[39mcompute_action(transition[\u001b[39m3\u001b[39m],fix_torque))) \u001b[39mfor\u001b[39;00m transition \u001b[39min\u001b[39;00m batch], dtype\u001b[39m=\u001b[39mtorch\u001b[39m.\u001b[39mfloat)\u001b[39m.\u001b[39mto(device)\n\u001b[0;32m     19\u001b[0m \u001b[39melse\u001b[39;00m:\n\u001b[1;32m---> 20\u001b[0m     target_batch\u001b[39m=\u001b[39mtorch\u001b[39m.\u001b[39mtensor([np\u001b[39m.\u001b[39mappend(transition[\u001b[39m3\u001b[39m], normalized_env\u001b[39m.\u001b[39maction(agent\u001b[39m.\u001b[39mcompute_action(policy_network,transition[\u001b[39m3\u001b[39m],deterministic))) \u001b[39mfor\u001b[39;00m transition \u001b[39min\u001b[39;00m batch], dtype\u001b[39m=\u001b[39mtorch\u001b[39m.\u001b[39mfloat)\u001b[39m.\u001b[39mto(device)\n\u001b[0;32m     21\u001b[0m \u001b[39m# print('target_batch:',target_batch[0])\u001b[39;00m\n\u001b[0;32m     22\u001b[0m \n\u001b[0;32m     23\u001b[0m \u001b[39m# clear the gradients of the optimizer\u001b[39;00m\n\u001b[0;32m     24\u001b[0m optimizer\u001b[39m.\u001b[39mzero_grad()\n",
            "Cell \u001b[1;32mIn[16], line 20\u001b[0m, in \u001b[0;36m<listcomp>\u001b[1;34m(.0)\u001b[0m\n\u001b[0;32m     18\u001b[0m     target_batch\u001b[39m=\u001b[39mtorch\u001b[39m.\u001b[39mtensor([np\u001b[39m.\u001b[39mappend(transition[\u001b[39m3\u001b[39m], normalized_env\u001b[39m.\u001b[39maction(agent\u001b[39m.\u001b[39mcompute_action(transition[\u001b[39m3\u001b[39m],fix_torque))) \u001b[39mfor\u001b[39;00m transition \u001b[39min\u001b[39;00m batch], dtype\u001b[39m=\u001b[39mtorch\u001b[39m.\u001b[39mfloat)\u001b[39m.\u001b[39mto(device)\n\u001b[0;32m     19\u001b[0m \u001b[39melse\u001b[39;00m:\n\u001b[1;32m---> 20\u001b[0m     target_batch\u001b[39m=\u001b[39mtorch\u001b[39m.\u001b[39mtensor([np\u001b[39m.\u001b[39mappend(transition[\u001b[39m3\u001b[39m], normalized_env\u001b[39m.\u001b[39maction(agent\u001b[39m.\u001b[39;49mcompute_action(policy_network,transition[\u001b[39m3\u001b[39;49m],deterministic))) \u001b[39mfor\u001b[39;00m transition \u001b[39min\u001b[39;00m batch], dtype\u001b[39m=\u001b[39mtorch\u001b[39m.\u001b[39mfloat)\u001b[39m.\u001b[39mto(device)\n\u001b[0;32m     21\u001b[0m \u001b[39m# print('target_batch:',target_batch[0])\u001b[39;00m\n\u001b[0;32m     22\u001b[0m \n\u001b[0;32m     23\u001b[0m \u001b[39m# clear the gradients of the optimizer\u001b[39;00m\n\u001b[0;32m     24\u001b[0m optimizer\u001b[39m.\u001b[39mzero_grad()\n",
            "Cell \u001b[1;32mIn[22], line 13\u001b[0m, in \u001b[0;36mDDPGAgent.compute_action\u001b[1;34m(self, policy_network, state, deterministic)\u001b[0m\n\u001b[0;32m      9\u001b[0m \u001b[39mdef\u001b[39;00m \u001b[39mcompute_action\u001b[39m(\u001b[39mself\u001b[39m,policy_network,state,deterministic\u001b[39m=\u001b[39m\u001b[39mTrue\u001b[39;00m):\n\u001b[0;32m     10\u001b[0m     \u001b[39m# deterministic: regulates whether to add random noise to the action or not\u001b[39;00m\n\u001b[0;32m     11\u001b[0m     \u001b[39mwith\u001b[39;00m torch\u001b[39m.\u001b[39mno_grad():\n\u001b[0;32m     12\u001b[0m         \u001b[39m# convert state to tensor\u001b[39;00m\n\u001b[1;32m---> 13\u001b[0m         state \u001b[39m=\u001b[39m torch\u001b[39m.\u001b[39;49mtensor(state, dtype\u001b[39m=\u001b[39;49mtorch\u001b[39m.\u001b[39;49mfloat)\n\u001b[0;32m     14\u001b[0m         \u001b[39m# compute the action\u001b[39;00m\n\u001b[0;32m     15\u001b[0m         action \u001b[39m=\u001b[39m policy_network(state)\n",
            "\u001b[1;31mKeyboardInterrupt\u001b[0m: "
          ]
        }
      ],
      "source": [
        "env = gym.make(\"Pendulum-v1\")\n",
        "num_episode=1000\n",
        "num_step=200\n",
        "batch_size=128\n",
        "buffer_size=100000\n",
        "gamma=0.99\n",
        "learning_rate=1e-4\n",
        "sigma=0.3\n",
        "deterministic=False\n",
        "list_average_loss_Q_network=[]\n",
        "list_average_loss_policy_network=[]\n",
        "list_reward=[]\n",
        "device = torch.device(\"cuda\" if torch.cuda.is_available() else \"cpu\")\n",
        "# initialize the Q network \n",
        "Q_network=QNetwork().to(device)\n",
        "Q_target=QNetwork().to(device)\n",
        "# define policy network\n",
        "policy_network=PolicyNetwork().to(device)\n",
        "Q_target.load_state_dict(Q_network.state_dict())\n",
        "# define a optimizer for the QNetwork\n",
        "optimizer = torch.optim.Adam(Q_network.parameters(), learning_rate)\n",
        "# define replay buffer\n",
        "replay_buffer=ReplayBuffer(buffer_size)\n",
        "# define agent\n",
        "agent = DDPGAgent(env,sigma)\n",
        "\n",
        "print('Start training...')\n",
        "for episode in tqdm(range(num_episode)):\n",
        "    sum_reward=0\n",
        "    # print('episode number:',episode,'/',num_episode,'...')\n",
        "    # initialize the sum_loss for each episode\n",
        "    sum_loss_Q_network=0\n",
        "    sum_loss_policy_network=0\n",
        "    # renew the environment for every episode\n",
        "    state, info = env.reset()\n",
        "    normalized_env = NormalizedEnv(env)\n",
        "    last_step=False\n",
        "    for step in range(num_step):\n",
        "        # print('step:',step,'/',num_step,'...')\n",
        "        \n",
        "        # add transition to replay buffer, and kick out the old one if the buffer is full\n",
        "        # add noise to action when deterministic=False\n",
        "        action = agent.compute_action(policy_network,state,deterministic)\n",
        "        # print('action:',action)\n",
        "        normalized_action = normalized_env.action(action)\n",
        "        # print('normalized_action:',normalized_action)\n",
        "        next_state, reward, terminated, truncated, info = env.step(normalized_action)\n",
        "        transition=(state, normalized_action, reward, next_state, truncated)\n",
        "        replay_buffer.add(transition)\n",
        "        state=next_state\n",
        "\n",
        "        if len(replay_buffer) < batch_size:\n",
        "            print(\"The replay buffer does not have enough transitions.\")\n",
        "            continue\n",
        "    \n",
        "        # sample a batch of transitions from the replay buffer\n",
        "        batch = replay_buffer.sample(batch_size)\n",
        "\n",
        "        # train the policy_network\n",
        "        loss_policy_network,policy_network,predict_actions=train_PolicyNetwork(policy_network,Q_network, batch, optimizer,device)\n",
        "        predict_rewards=0\n",
        "        for batch_idx in range(batch_size):\n",
        "            normalized_predict_action = normalized_env.action(predict_actions[batch_idx].item())\n",
        "            _, predict_reward, _, _, _ = env.step(normalized_predict_action)\n",
        "            predict_rewards+=predict_reward\n",
        "        avg_predict_reward=predict_rewards/batch_size\n",
        "        sum_reward+=avg_predict_reward\n",
        "\n",
        "        # if it is last step, set last_step=True\n",
        "        if step==num_step-1:\n",
        "            last_step=True\n",
        "\n",
        "        # TODO: check with TA if it is correct \n",
        "        loss_Q_network,Q_network=train_QNetwork(Q_network,Q_target,normalized_env,agent, batch, gamma, optimizer,last_step,device,fix_torque=None,policy_network=policy_network,deterministic=deterministic)\n",
        "        if loss_Q_network is not None:\n",
        "            sum_loss_Q_network+=loss_Q_network\n",
        "        if loss_policy_network is not None:   \n",
        "            sum_loss_policy_network+=loss_policy_network\n",
        "        Q_target.load_state_dict(Q_network.state_dict())\n",
        "        \n",
        "    average_loss_Q_network=sum_loss_Q_network/num_step\n",
        "    average_loss_policy_network=sum_loss_policy_network/num_step\n",
        "    list_average_loss_Q_network.append(average_loss_Q_network)\n",
        "    list_average_loss_policy_network.append(average_loss_policy_network)\n",
        "    list_reward.append(sum_reward)\n",
        "print('Finishing training!')\n",
        "# print('Save the model...')\n",
        "# # save the model with path name with real-time date and time\n",
        "# save_path_Q= os.path.join('trained_model','5_Qnetwork_DDPG_'+datetime.datetime.now().strftime(\"%Y%m%d%H%M\")+'_ep'+str(num_episode)+'.pth')\n",
        "# torch.save(Q_network.state_dict(), save_path_Q)\n",
        "# print('Qnetwork Model save to ',save_path_Q,' !')\n",
        "# save_path_Policy= os.path.join('trained_model','5_Policynetwork_DDPG_'+datetime.datetime.now().strftime(\"%Y%m%d%H%M\")+'_ep'+str(num_episode)+'.pth')\n",
        "# torch.save(policy_network.state_dict(), save_path_Policy)\n",
        "# print('Policy network Model save to ',save_path_Policy,' !')\n",
        "\n",
        "list_number_episodes = np.linspace(1,num_episode,num = num_episode)\n",
        "plt.plot(list_number_episodes,list_average_loss_Q_network, label='Average loss obtained by the Q-Network')\n",
        "plt.plot(list_number_episodes,list_average_loss_policy_network, label='Average loss obtained by the policy Network')\n",
        "plt.xlabel('Number of episodes')\n",
        "plt.ylabel('Average loss per episode')\n",
        "plt.title('Average loss obtained by the Q-Network and the policy Network')\n",
        "plt.legend()\n",
        "print('Save the figures...')\n",
        "image_path=os.path.join('figure','5_AverageLoss_'+datetime.datetime.now().strftime(\"%Y%m%d%H%M\")+'_ep'+str(num_episode)+'.png')\n",
        "plt.savefig(image_path)\n",
        "plt.show()\n",
        "plt.figure()\n",
        "plt.plot(list_number_episodes,list_reward)\n",
        "plt.xlabel('Number of episodes')\n",
        "plt.ylabel('Accumulated reward')\n",
        "plt.title('Accumulated reward per episode')\n",
        "print('Save the figures...')\n",
        "image_path=os.path.join('figure','5_AccumulatedRewardPerEpisode__'+datetime.datetime.now().strftime(\"%Y%m%d%H%M\")+'_ep'+str(num_episode)+'.png')\n",
        "plt.savefig(image_path)\n",
        "plt.show()\n",
        "env.close()"
      ]
    },
    {
      "cell_type": "code",
      "execution_count": null,
      "metadata": {
        "id": "L61VeFuMbofN",
        "outputId": "510adacd-54cf-4bc9-d3bb-44acfe73955a"
      },
      "outputs": [
        {
          "name": "stdout",
          "output_type": "stream",
          "text": [
            "Start testing...\n",
            "episode number: 0 / 100 ...\n",
            "episode number: 1 / 100 ...\n",
            "episode number: 2 / 100 ...\n",
            "episode number: 3 / 100 ...\n",
            "episode number: 4 / 100 ...\n",
            "episode number: 5 / 100 ...\n",
            "episode number: 6 / 100 ...\n",
            "episode number: 7 / 100 ...\n",
            "episode number: 8 / 100 ...\n",
            "episode number: 9 / 100 ...\n",
            "episode number: 10 / 100 ...\n",
            "episode number: 11 / 100 ...\n",
            "episode number: 12 / 100 ...\n",
            "episode number: 13 / 100 ...\n",
            "episode number: 14 / 100 ...\n",
            "episode number: 15 / 100 ...\n",
            "episode number: 16 / 100 ...\n",
            "episode number: 17 / 100 ...\n",
            "episode number: 18 / 100 ...\n",
            "episode number: 19 / 100 ...\n",
            "episode number: 20 / 100 ...\n",
            "episode number: 21 / 100 ...\n",
            "episode number: 22 / 100 ...\n",
            "episode number: 23 / 100 ...\n",
            "episode number: 24 / 100 ...\n",
            "episode number: 25 / 100 ...\n",
            "episode number: 26 / 100 ...\n",
            "episode number: 27 / 100 ...\n",
            "episode number: 28 / 100 ...\n",
            "episode number: 29 / 100 ...\n",
            "episode number: 30 / 100 ...\n",
            "episode number: 31 / 100 ...\n",
            "episode number: 32 / 100 ...\n",
            "episode number: 33 / 100 ...\n",
            "episode number: 34 / 100 ...\n",
            "episode number: 35 / 100 ...\n",
            "episode number: 36 / 100 ...\n",
            "episode number: 37 / 100 ...\n",
            "episode number: 38 / 100 ...\n",
            "episode number: 39 / 100 ...\n",
            "episode number: 40 / 100 ...\n",
            "episode number: 41 / 100 ...\n",
            "episode number: 42 / 100 ...\n",
            "episode number: 43 / 100 ...\n",
            "episode number: 44 / 100 ...\n",
            "episode number: 45 / 100 ...\n",
            "episode number: 46 / 100 ...\n",
            "episode number: 47 / 100 ...\n",
            "episode number: 48 / 100 ...\n",
            "episode number: 49 / 100 ...\n",
            "episode number: 50 / 100 ...\n",
            "episode number: 51 / 100 ...\n",
            "episode number: 52 / 100 ...\n",
            "episode number: 53 / 100 ...\n",
            "episode number: 54 / 100 ...\n",
            "episode number: 55 / 100 ...\n",
            "episode number: 56 / 100 ...\n",
            "episode number: 57 / 100 ...\n",
            "episode number: 58 / 100 ...\n",
            "episode number: 59 / 100 ...\n",
            "episode number: 60 / 100 ...\n",
            "episode number: 61 / 100 ...\n",
            "episode number: 62 / 100 ...\n",
            "episode number: 63 / 100 ...\n",
            "episode number: 64 / 100 ...\n",
            "episode number: 65 / 100 ...\n",
            "episode number: 66 / 100 ...\n",
            "episode number: 67 / 100 ...\n",
            "episode number: 68 / 100 ...\n",
            "episode number: 69 / 100 ...\n",
            "episode number: 70 / 100 ...\n",
            "episode number: 71 / 100 ...\n",
            "episode number: 72 / 100 ...\n",
            "episode number: 73 / 100 ...\n",
            "episode number: 74 / 100 ...\n",
            "episode number: 75 / 100 ...\n",
            "episode number: 76 / 100 ...\n",
            "episode number: 77 / 100 ...\n",
            "episode number: 78 / 100 ...\n",
            "episode number: 79 / 100 ...\n",
            "episode number: 80 / 100 ...\n",
            "episode number: 81 / 100 ...\n",
            "episode number: 82 / 100 ...\n",
            "episode number: 83 / 100 ...\n",
            "episode number: 84 / 100 ...\n",
            "episode number: 85 / 100 ...\n",
            "episode number: 86 / 100 ...\n",
            "episode number: 87 / 100 ...\n",
            "episode number: 88 / 100 ...\n",
            "episode number: 89 / 100 ...\n",
            "episode number: 90 / 100 ...\n",
            "episode number: 91 / 100 ...\n",
            "episode number: 92 / 100 ...\n",
            "episode number: 93 / 100 ...\n",
            "episode number: 94 / 100 ...\n",
            "episode number: 95 / 100 ...\n",
            "episode number: 96 / 100 ...\n",
            "episode number: 97 / 100 ...\n",
            "episode number: 98 / 100 ...\n",
            "episode number: 99 / 100 ...\n",
            "Save the figures...\n"
          ]
        },
        {
          "data": {
            "image/png": "[encoded data removed]",
            "text/plain": [
              "<Figure size 640x480 with 1 Axes>"
            ]
          },
          "metadata": {},
          "output_type": "display_data"
        }
      ],
      "source": [
        "# Excute Test with the trained model\n",
        "\n",
        "env = gym.make(\"Pendulum-v1\")\n",
        "num_episode=100\n",
        "num_step=200\n",
        "sigma=0.3\n",
        "deterministic=True\n",
        "episode_accumulated_reward=0\n",
        "list_avg_accumulated_reward=[]\n",
        "\n",
        "# get the model weight\n",
        "policy_model_path=os.path.join('trained_model','5_Policynetwork_DDPG_202305042005_ep10.pth')\n",
        "qnetwork_model_path=os.path.join('trained_model','5_Qnetwork_DDPG_202305042005_ep10.pth')\n",
        "# initialize the Q network with the stored model\n",
        "Q_network=QNetwork()\n",
        "Q_network.load_state_dict(torch.load(qnetwork_model_path))\n",
        "# initialize the policy network with the stored model\n",
        "policy_network=PolicyNetwork()\n",
        "policy_network.load_state_dict(torch.load(policy_model_path))\n",
        "\n",
        "# define agent\n",
        "agent = DDPGAgent(env,sigma)\n",
        "\n",
        "print('Start testing...')\n",
        "for episode in range(num_episode):\n",
        "    sum_reward=0\n",
        "    print('episode number:',episode,'/',num_episode,'...')\n",
        "    # initialize the sum_loss for each episode\n",
        "    sum_loss_Q_network=0\n",
        "    sum_loss_policy_network=0\n",
        "    # renew the environment for every episode\n",
        "    state, info = env.reset()\n",
        "    normalized_env = NormalizedEnv(env)\n",
        "    with torch.no_grad():\n",
        "        for step in range(num_step):\n",
        "            # print('step:',step,'/',num_step,'...')\n",
        "            \n",
        "            # create new transition/data\n",
        "            # do not add noise to action by deterministic=True\n",
        "            action = agent.compute_action(policy_network,state,deterministic)\n",
        "            # print('action:',action)\n",
        "            normalized_action = normalized_env.action(action)\n",
        "            # print('normalized_action:',normalized_action)\n",
        "            next_state, reward, terminated, truncated, info = env.step(normalized_action)\n",
        "            state=next_state\n",
        "        \n",
        "            # unpack the batch of transitions\n",
        "            # only 1 btach here since here is testing\n",
        "            state_batch=torch.tensor([state], dtype=torch.float)\n",
        "\n",
        "            # policy_network: policy use for action selection\n",
        "            predicted_action = policy_network(state_batch)\n",
        "            \n",
        "            # print('predicted_action:',predicted_action.item())\n",
        "            normalized_predict_action = normalized_env.action(predicted_action.item())\n",
        "            _, predict_reward, _, _, _ = env.step(normalized_predict_action)\n",
        "            \n",
        "            sum_reward+=predict_reward\n",
        "        episode_accumulated_reward+=sum_reward/num_step\n",
        "        list_avg_accumulated_reward.append(episode_accumulated_reward/(episode+1))\n",
        "\n",
        "list_number_episodes = np.linspace(1,num_episode,num = num_episode)\n",
        "plt.plot(list_number_episodes,list_avg_accumulated_reward)\n",
        "plt.xlabel('Number of episodes')\n",
        "plt.ylabel('Average accumulative reward')\n",
        "plt.title('Test: Average accumulative reward with trained policy')\n",
        "print('Save the figures...')\n",
        "image_path=os.path.join('figure','5_TestAvgAccumulativeReward__'+datetime.datetime.now().strftime(\"%Y%m%d%H%M\")+'_ep'+str(num_episode)+'.png')\n",
        "plt.savefig(image_path)\n",
        "plt.show()\n",
        "env.close()\n",
        "\n"
      ]
    },
    {
      "cell_type": "code",
      "execution_count": null,
      "metadata": {
        "id": "f3Dnk31ibofO"
      },
      "outputs": [],
      "source": [
        "# polar heatmap \n",
        "env = gym.make(\"Pendulum-v1\")\n",
        "num_episode=10 #100\n",
        "num_step=200\n",
        "batch_size=128\n",
        "buffer_size=100000\n",
        "gamma=0.99\n",
        "learning_rate=1e-4\n",
        "sigma=0.3\n",
        "deterministic=False\n",
        "# initialize the Q network \n",
        "Q_network=QNetwork()\n",
        "Q_target=QNetwork()\n",
        "# define policy network\n",
        "policy_network=PolicyNetwork()\n",
        "Q_target.load_state_dict(Q_network.state_dict())\n",
        "# define a optimizer for the QNetwork\n",
        "optimizer = torch.optim.Adam(Q_network.parameters(), learning_rate)\n",
        "# define replay buffer\n",
        "replay_buffer=ReplayBuffer(buffer_size)\n",
        "# define agent\n",
        "agent = DDPGAgent(env,sigma)\n",
        "\n",
        "print('Start training...')\n",
        "for episode in range(num_episode):\n",
        "    print('episode number:',episode,'/',num_episode,'...')\n",
        "    # renew the environment for every episode\n",
        "    state, info = env.reset()\n",
        "    normalized_env = NormalizedEnv(env)\n",
        "    for step in range(num_step):\n",
        "        # print('step:',step,'/',num_step,'...')\n",
        "        \n",
        "        # add transition to replay buffer, and kick out the old one if the buffer is full\n",
        "        # add noise to action when deterministic=False\n",
        "        action = agent.compute_action(policy_network,state,deterministic)\n",
        "        normalized_action = normalized_env.action(action)\n",
        "        next_state, reward, terminated, truncated, info = env.step(normalized_action)\n",
        "        transition=(state, normalized_action, reward, next_state, truncated)\n",
        "        replay_buffer.add(transition)\n",
        "        state=next_state\n",
        "\n",
        "        if len(replay_buffer) < batch_size:\n",
        "            print(\"The replay buffer does not have enough transitions.\")\n",
        "            continue\n",
        "    \n",
        "        # sample a batch of transitions from the replay buffer\n",
        "        batch = replay_buffer.sample(batch_size)\n",
        "\n",
        "        # train the policy_network\n",
        "        loss_policy_network,policy_network,predict_actions=train_PolicyNetwork(policy_network,Q_network, batch, optimizer) \n",
        "        loss_Q_network,Q_network=train_QNetwork(Q_network,Q_target,normalized_env,agent, batch, gamma, optimizer,fix_torque=None,policy_network=policy_network,deterministic=deterministic)\n",
        "        Q_target.load_state_dict(Q_network.state_dict())\n",
        "        \n",
        "#action_values= np.random.uniform(-2, 2,5)\n",
        "#velocity_values= np.random.uniform(-5, 5,5)\n",
        "action_values= [-2,-1,0,1,2]\n",
        "velocity_values=[-5,-2.5,0,2.5,5]\n",
        "angles=np.linspace(0,2*np.pi,360)\n",
        "angles_cosinus=[np.cos(ang) for ang in angles]\n",
        "angles_sinus=[np.sin(ang) for ang in angles]\n",
        "\n",
        "\n",
        "for j in range(5):\n",
        "    Q_network_before_training=QNetwork()\n",
        "    states=[np.append(np.append(angles_cosinus[i],angles_sinus[i]),velocity_values[j]) for i in range(360)]\n",
        "    #print('states= ', states)\n",
        "    inputs=torch.tensor([np.append(states[i],action_values[j]) for i in range(360)], dtype=torch.float32)\n",
        "    print ('*******************************************************************************************')\n",
        "    print('(action',j+1,'=',action_values[j], ' , velocity',j+1,'=',velocity_values[j], ')')\n",
        "    Q_values_before_training=Q_network_before_training(inputs)\n",
        "    Q_values_before_training=Q_values_before_training.detach().numpy()\n",
        "    print ('before training!')\n",
        "    # print('Q_values before training = ', Q_values_before_training)\n",
        "    Q_Matrix_before_training=Q_values_before_training\n",
        "    for i in range(359):\n",
        "        Q_Matrix_before_training=np.column_stack((Q_Matrix_before_training,Q_values_before_training))\n",
        "    fig_before_training = plt.figure()\n",
        "    rad=np.linspace(0,5,360)\n",
        "    r,th=np.meshgrid(rad,angles)\n",
        "    ax_before_training = fig_before_training.add_subplot(111, polar=True)\n",
        "    p_before_training = ax_before_training.pcolormesh(th, r, Q_Matrix_before_training)\n",
        "    fig_before_training.colorbar(p_before_training)\n",
        "    plt.show()\n",
        "\n",
        "    Q_values_after_training = Q_network(inputs)\n",
        "    Q_values_after_training = Q_values_after_training.detach().numpy()\n",
        "    print ('after training!')\n",
        "    # print('Q_values after training = ', Q_values_after_training)\n",
        "    Q_Matrix_after_training = Q_values_after_training\n",
        "    for i in range(359):\n",
        "        Q_Matrix_after_training=np.column_stack((Q_Matrix_after_training,Q_values_after_training))\n",
        "    fig_after_training = plt.figure()\n",
        "    ax_after_training = fig_after_training.add_subplot(111, polar=True)\n",
        "    p_after_training = ax_after_training.pcolormesh(th, r, Q_Matrix_after_training)\n",
        "    fig_after_training.colorbar(p_after_training)\n",
        "    plt.show()"
      ]
    },
    {
      "attachments": {},
      "cell_type": "markdown",
      "metadata": {
        "id": "YzlQyYM1bofP"
      },
      "source": [
        "# Part 6 : Target networks"
      ]
    },
    {
      "cell_type": "code",
      "execution_count": null,
      "metadata": {
        "id": "CATOtLAPbofP"
      },
      "outputs": [],
      "source": [
        "# DDPGAgent\n",
        "class DDPGAgent():\n",
        "    def __init__(self,env,sigma,tau):\n",
        "        self.state_size = env.observation_space.shape[0]\n",
        "        self.action_size = env.action_space.shape[0]\n",
        "        self.agent_name='DDPGAgent'\n",
        "        self.action_noise=GaussianActionNoise(sigma)\n",
        "\n",
        "        self.actor_network = PolicyNetwork()\n",
        "        self.actor_target = PolicyNetwork()\n",
        "        self.actor_target.load_state_dict(self.actor_network.state_dict())\n",
        "\n",
        "        self.critic_network = QNetwork()\n",
        "        self.critic_target = QNetwork()\n",
        "        self.critic_target.load_state_dict(self.critic_network.state_dict())\n",
        "\n",
        "        self.tau = tau\n",
        "\n",
        "    def compute_action(self,policy_network,state,deterministic=True):\n",
        "        # deterministic: regulates whether to add random noise to the action or not\n",
        "        with torch.no_grad():\n",
        "            # convert state to tensor\n",
        "            state = torch.tensor(state, dtype=torch.float)\n",
        "            # compute the action\n",
        "            action = policy_network(state)\n",
        "            if not deterministic:\n",
        "                # add random noise to the action\n",
        "                action = self.action_noise.get_noisy_action(action)\n",
        "            # convert action to numpy array\n",
        "            action = action.numpy()\n",
        "        return action\n",
        "    \n",
        "    def update_target_params(self):\n",
        "        # update the parameters of networks\n",
        "        with torch.no_grad():\n",
        "            # for param, target_param in zip(self.critic_network.parameters(), self.critic_target.parameters()):\n",
        "            #        print(\"param:\",param,\"target_param:\",target_param)\n",
        "            \n",
        "            for param, target_param in zip(self.critic_network.parameters(), self.critic_target.parameters()):\n",
        "                    target_param.copy_(self.tau * param.data + (1 - self.tau) * target_param.data)\n",
        "\n",
        "            # for param, target_param in zip(self.critic_network.parameters(), self.critic_target.parameters()):\n",
        "            #         print(\"param:\",param,\"target_param:\",target_param)\n",
        "            \n",
        "            \n",
        "            for param, target_param in zip(self.actor_network.parameters(), self.actor_target.parameters()):\n",
        "                target_param.copy_(self.tau * param.data + (1 - self.tau) * target_param.data)\n",
        "    \n"
      ]
    },
    {
      "cell_type": "code",
      "execution_count": null,
      "metadata": {
        "id": "-G6JUE5GbofR",
        "outputId": "15c52a18-61b1-4e7f-e363-fca55a0fcf1d"
      },
      "outputs": [
        {
          "name": "stdout",
          "output_type": "stream",
          "text": [
            "param: Parameter containing:\n",
            "tensor([[ 0.1337,  0.2907, -0.4738, -0.1623],\n",
            "        [ 0.2650, -0.2635,  0.2133, -0.2514],\n",
            "        [ 0.4840, -0.0874,  0.2426, -0.3500],\n",
            "        [ 0.4387, -0.2060, -0.0940,  0.3357],\n",
            "        [-0.1981,  0.4028,  0.3692,  0.4964],\n",
            "        [ 0.4803, -0.3444, -0.3656, -0.0080],\n",
            "        [-0.1088,  0.4704,  0.0819,  0.1799],\n",
            "        [-0.2702, -0.3917, -0.2243,  0.1432],\n",
            "        [-0.3620,  0.4207,  0.0549, -0.4528],\n",
            "        [-0.1462,  0.4691, -0.3018, -0.0072],\n",
            "        [ 0.1861,  0.1762,  0.2910, -0.3104],\n",
            "        [ 0.0869,  0.2508, -0.4310,  0.1382],\n",
            "        [ 0.0921, -0.4963, -0.3537,  0.3927],\n",
            "        [-0.3188, -0.2684, -0.1968, -0.1823],\n",
            "        [-0.1618, -0.1758, -0.2084, -0.1656],\n",
            "        [-0.3481,  0.2312, -0.1967, -0.2341],\n",
            "        [ 0.2853,  0.4237,  0.3119,  0.3537],\n",
            "        [-0.0530,  0.1259, -0.0856,  0.2233],\n",
            "        [ 0.4906,  0.4377,  0.2701,  0.3642],\n",
            "        [-0.2194,  0.1395,  0.0486,  0.4651],\n",
            "        [ 0.4211,  0.1656,  0.1872, -0.2973],\n",
            "        [ 0.1502,  0.0918,  0.4844,  0.0177],\n",
            "        [ 0.1737, -0.4453, -0.3892, -0.0991],\n",
            "        [-0.1245,  0.3411, -0.4238,  0.4400],\n",
            "        [ 0.3222, -0.2371,  0.0710, -0.3916],\n",
            "        [ 0.2178,  0.0422,  0.3311,  0.4086],\n",
            "        [-0.2305,  0.1003, -0.2255, -0.4534],\n",
            "        [-0.3859, -0.0017, -0.3110, -0.4939],\n",
            "        [-0.2376, -0.3605,  0.0051,  0.0136],\n",
            "        [ 0.3728, -0.0284,  0.3685,  0.1550],\n",
            "        [-0.4449,  0.1922, -0.4746, -0.1837],\n",
            "        [-0.4860,  0.3291, -0.0630, -0.1322]], requires_grad=True) target_param: Parameter containing:\n",
            "tensor([[ 0.1337,  0.2907, -0.4738, -0.1623],\n",
            "        [ 0.2650, -0.2635,  0.2133, -0.2514],\n",
            "        [ 0.4840, -0.0874,  0.2426, -0.3500],\n",
            "        [ 0.4387, -0.2060, -0.0940,  0.3357],\n",
            "        [-0.1981,  0.4028,  0.3692,  0.4964],\n",
            "        [ 0.4803, -0.3444, -0.3656, -0.0080],\n",
            "        [-0.1088,  0.4704,  0.0819,  0.1799],\n",
            "        [-0.2702, -0.3917, -0.2243,  0.1432],\n",
            "        [-0.3620,  0.4207,  0.0549, -0.4528],\n",
            "        [-0.1462,  0.4691, -0.3018, -0.0072],\n",
            "        [ 0.1861,  0.1762,  0.2910, -0.3104],\n",
            "        [ 0.0869,  0.2508, -0.4310,  0.1382],\n",
            "        [ 0.0921, -0.4963, -0.3537,  0.3927],\n",
            "        [-0.3188, -0.2684, -0.1968, -0.1823],\n",
            "        [-0.1618, -0.1758, -0.2084, -0.1656],\n",
            "        [-0.3481,  0.2312, -0.1967, -0.2341],\n",
            "        [ 0.2853,  0.4237,  0.3119,  0.3537],\n",
            "        [-0.0530,  0.1259, -0.0856,  0.2233],\n",
            "        [ 0.4906,  0.4377,  0.2701,  0.3642],\n",
            "        [-0.2194,  0.1395,  0.0486,  0.4651],\n",
            "        [ 0.4211,  0.1656,  0.1872, -0.2973],\n",
            "        [ 0.1502,  0.0918,  0.4844,  0.0177],\n",
            "        [ 0.1737, -0.4453, -0.3892, -0.0991],\n",
            "        [-0.1245,  0.3411, -0.4238,  0.4400],\n",
            "        [ 0.3222, -0.2371,  0.0710, -0.3916],\n",
            "        [ 0.2178,  0.0422,  0.3311,  0.4086],\n",
            "        [-0.2305,  0.1003, -0.2255, -0.4534],\n",
            "        [-0.3859, -0.0017, -0.3110, -0.4939],\n",
            "        [-0.2376, -0.3605,  0.0051,  0.0136],\n",
            "        [ 0.3728, -0.0284,  0.3685,  0.1550],\n",
            "        [-0.4449,  0.1922, -0.4746, -0.1837],\n",
            "        [-0.4860,  0.3291, -0.0630, -0.1322]], requires_grad=True)\n",
            "param: Parameter containing:\n",
            "tensor([ 0.1687,  0.4432,  0.1022,  0.4458,  0.4976, -0.0193, -0.3761, -0.0120,\n",
            "        -0.0755,  0.3826,  0.0729,  0.2305, -0.2514, -0.4023,  0.1368,  0.0093,\n",
            "         0.3617, -0.4192, -0.0582,  0.3147,  0.1592, -0.1024, -0.2047,  0.0160,\n",
            "         0.1573,  0.4982, -0.1308, -0.1649,  0.2055, -0.2579,  0.4517, -0.4852],\n",
            "       requires_grad=True) target_param: Parameter containing:\n",
            "tensor([ 0.1687,  0.4432,  0.1022,  0.4458,  0.4976, -0.0193, -0.3761, -0.0120,\n",
            "        -0.0755,  0.3826,  0.0729,  0.2305, -0.2514, -0.4023,  0.1368,  0.0093,\n",
            "         0.3617, -0.4192, -0.0582,  0.3147,  0.1592, -0.1024, -0.2047,  0.0160,\n",
            "         0.1573,  0.4982, -0.1308, -0.1649,  0.2055, -0.2579,  0.4517, -0.4852],\n",
            "       requires_grad=True)\n",
            "param: Parameter containing:\n",
            "tensor([[-0.1346, -0.0583,  0.0097,  ..., -0.1266,  0.0517, -0.1017],\n",
            "        [-0.0177, -0.0980, -0.0164,  ..., -0.0249,  0.1029, -0.1401],\n",
            "        [-0.1556, -0.0975, -0.0682,  ...,  0.1423,  0.0766,  0.0346],\n",
            "        ...,\n",
            "        [-0.1271,  0.0541, -0.1122,  ..., -0.1308,  0.0434,  0.0838],\n",
            "        [-0.1649,  0.0783,  0.0917,  ..., -0.1351, -0.1069,  0.1424],\n",
            "        [ 0.0246,  0.0929, -0.0422,  ...,  0.0554,  0.0653,  0.0003]],\n",
            "       requires_grad=True) target_param: Parameter containing:\n",
            "tensor([[-0.1346, -0.0583,  0.0097,  ..., -0.1266,  0.0517, -0.1017],\n",
            "        [-0.0177, -0.0980, -0.0164,  ..., -0.0249,  0.1029, -0.1401],\n",
            "        [-0.1556, -0.0975, -0.0682,  ...,  0.1423,  0.0766,  0.0346],\n",
            "        ...,\n",
            "        [-0.1271,  0.0541, -0.1122,  ..., -0.1308,  0.0434,  0.0838],\n",
            "        [-0.1649,  0.0783,  0.0917,  ..., -0.1351, -0.1069,  0.1424],\n",
            "        [ 0.0246,  0.0929, -0.0422,  ...,  0.0554,  0.0653,  0.0003]],\n",
            "       requires_grad=True)\n",
            "param: Parameter containing:\n",
            "tensor([ 0.0241, -0.0762, -0.1301, -0.0708, -0.0164, -0.1764,  0.0878, -0.0316,\n",
            "         0.0362,  0.1324,  0.1703,  0.1147, -0.1184,  0.1384, -0.0650, -0.0643,\n",
            "        -0.1764,  0.0816, -0.1121,  0.0338, -0.1409, -0.0323,  0.0124, -0.1200,\n",
            "         0.1653, -0.1200,  0.0811, -0.1655, -0.0165, -0.0135, -0.0745, -0.0859],\n",
            "       requires_grad=True) target_param: Parameter containing:\n",
            "tensor([ 0.0241, -0.0762, -0.1301, -0.0708, -0.0164, -0.1764,  0.0878, -0.0316,\n",
            "         0.0362,  0.1324,  0.1703,  0.1147, -0.1184,  0.1384, -0.0650, -0.0643,\n",
            "        -0.1764,  0.0816, -0.1121,  0.0338, -0.1409, -0.0323,  0.0124, -0.1200,\n",
            "         0.1653, -0.1200,  0.0811, -0.1655, -0.0165, -0.0135, -0.0745, -0.0859],\n",
            "       requires_grad=True)\n",
            "param: Parameter containing:\n",
            "tensor([[ 0.0870,  0.0975,  0.1153,  0.0764,  0.0170,  0.1003, -0.1669, -0.1610,\n",
            "          0.1458, -0.1158, -0.1007,  0.1274, -0.0440,  0.0293, -0.1563,  0.1554,\n",
            "         -0.0993,  0.0320,  0.0417, -0.1243,  0.0520,  0.0348, -0.1433, -0.0272,\n",
            "          0.0637, -0.1328, -0.0698,  0.1183, -0.0368,  0.0983, -0.0410,  0.0299]],\n",
            "       requires_grad=True) target_param: Parameter containing:\n",
            "tensor([[ 0.0870,  0.0975,  0.1153,  0.0764,  0.0170,  0.1003, -0.1669, -0.1610,\n",
            "          0.1458, -0.1158, -0.1007,  0.1274, -0.0440,  0.0293, -0.1563,  0.1554,\n",
            "         -0.0993,  0.0320,  0.0417, -0.1243,  0.0520,  0.0348, -0.1433, -0.0272,\n",
            "          0.0637, -0.1328, -0.0698,  0.1183, -0.0368,  0.0983, -0.0410,  0.0299]],\n",
            "       requires_grad=True)\n",
            "param: Parameter containing:\n",
            "tensor([0.1443], requires_grad=True) target_param: Parameter containing:\n",
            "tensor([0.1443], requires_grad=True)\n",
            "param: Parameter containing:\n",
            "tensor([[ 0.1337,  0.2907, -0.4738, -0.1623],\n",
            "        [ 0.2650, -0.2635,  0.2133, -0.2514],\n",
            "        [ 0.4840, -0.0874,  0.2426, -0.3500],\n",
            "        [ 0.4387, -0.2060, -0.0940,  0.3357],\n",
            "        [-0.1981,  0.4028,  0.3692,  0.4964],\n",
            "        [ 0.4803, -0.3444, -0.3656, -0.0080],\n",
            "        [-0.1088,  0.4704,  0.0819,  0.1799],\n",
            "        [-0.2702, -0.3917, -0.2243,  0.1432],\n",
            "        [-0.3620,  0.4207,  0.0549, -0.4528],\n",
            "        [-0.1462,  0.4691, -0.3018, -0.0072],\n",
            "        [ 0.1861,  0.1762,  0.2910, -0.3104],\n",
            "        [ 0.0869,  0.2508, -0.4310,  0.1382],\n",
            "        [ 0.0921, -0.4963, -0.3537,  0.3927],\n",
            "        [-0.3188, -0.2684, -0.1968, -0.1823],\n",
            "        [-0.1618, -0.1758, -0.2084, -0.1656],\n",
            "        [-0.3481,  0.2312, -0.1967, -0.2341],\n",
            "        [ 0.2853,  0.4237,  0.3119,  0.3537],\n",
            "        [-0.0530,  0.1259, -0.0856,  0.2233],\n",
            "        [ 0.4906,  0.4377,  0.2701,  0.3642],\n",
            "        [-0.2194,  0.1395,  0.0486,  0.4651],\n",
            "        [ 0.4211,  0.1656,  0.1872, -0.2973],\n",
            "        [ 0.1502,  0.0918,  0.4844,  0.0177],\n",
            "        [ 0.1737, -0.4453, -0.3892, -0.0991],\n",
            "        [-0.1245,  0.3411, -0.4238,  0.4400],\n",
            "        [ 0.3222, -0.2371,  0.0710, -0.3916],\n",
            "        [ 0.2178,  0.0422,  0.3311,  0.4086],\n",
            "        [-0.2305,  0.1003, -0.2255, -0.4534],\n",
            "        [-0.3859, -0.0017, -0.3110, -0.4939],\n",
            "        [-0.2376, -0.3605,  0.0051,  0.0136],\n",
            "        [ 0.3728, -0.0284,  0.3685,  0.1550],\n",
            "        [-0.4449,  0.1922, -0.4746, -0.1837],\n",
            "        [-0.4860,  0.3291, -0.0630, -0.1322]], requires_grad=True) target_param: Parameter containing:\n",
            "tensor([[-0.1337, -0.2907,  0.4738,  0.1623],\n",
            "        [-0.2650,  0.2635, -0.2133,  0.2514],\n",
            "        [-0.4840,  0.0874, -0.2426,  0.3500],\n",
            "        [-0.4387,  0.2060,  0.0940, -0.3357],\n",
            "        [ 0.1981, -0.4028, -0.3692, -0.4964],\n",
            "        [-0.4803,  0.3444,  0.3656,  0.0080],\n",
            "        [ 0.1088, -0.4704, -0.0819, -0.1799],\n",
            "        [ 0.2702,  0.3917,  0.2243, -0.1432],\n",
            "        [ 0.3620, -0.4207, -0.0549,  0.4528],\n",
            "        [ 0.1462, -0.4691,  0.3018,  0.0072],\n",
            "        [-0.1861, -0.1762, -0.2910,  0.3104],\n",
            "        [-0.0869, -0.2508,  0.4310, -0.1382],\n",
            "        [-0.0921,  0.4963,  0.3537, -0.3927],\n",
            "        [ 0.3188,  0.2684,  0.1968,  0.1823],\n",
            "        [ 0.1618,  0.1758,  0.2084,  0.1656],\n",
            "        [ 0.3481, -0.2312,  0.1967,  0.2341],\n",
            "        [-0.2853, -0.4237, -0.3119, -0.3537],\n",
            "        [ 0.0530, -0.1259,  0.0856, -0.2233],\n",
            "        [-0.4906, -0.4377, -0.2701, -0.3642],\n",
            "        [ 0.2194, -0.1395, -0.0486, -0.4651],\n",
            "        [-0.4211, -0.1656, -0.1872,  0.2973],\n",
            "        [-0.1502, -0.0918, -0.4844, -0.0177],\n",
            "        [-0.1737,  0.4453,  0.3892,  0.0991],\n",
            "        [ 0.1245, -0.3411,  0.4238, -0.4400],\n",
            "        [-0.3222,  0.2371, -0.0710,  0.3916],\n",
            "        [-0.2178, -0.0422, -0.3311, -0.4086],\n",
            "        [ 0.2305, -0.1003,  0.2255,  0.4534],\n",
            "        [ 0.3859,  0.0017,  0.3110,  0.4939],\n",
            "        [ 0.2376,  0.3605, -0.0051, -0.0136],\n",
            "        [-0.3728,  0.0284, -0.3685, -0.1550],\n",
            "        [ 0.4449, -0.1922,  0.4746,  0.1837],\n",
            "        [ 0.4860, -0.3291,  0.0630,  0.1322]], requires_grad=True)\n",
            "param: Parameter containing:\n",
            "tensor([ 0.1687,  0.4432,  0.1022,  0.4458,  0.4976, -0.0193, -0.3761, -0.0120,\n",
            "        -0.0755,  0.3826,  0.0729,  0.2305, -0.2514, -0.4023,  0.1368,  0.0093,\n",
            "         0.3617, -0.4192, -0.0582,  0.3147,  0.1592, -0.1024, -0.2047,  0.0160,\n",
            "         0.1573,  0.4982, -0.1308, -0.1649,  0.2055, -0.2579,  0.4517, -0.4852],\n",
            "       requires_grad=True) target_param: Parameter containing:\n",
            "tensor([-0.1687, -0.4432, -0.1022, -0.4458, -0.4976,  0.0193,  0.3761,  0.0120,\n",
            "         0.0755, -0.3826, -0.0729, -0.2305,  0.2514,  0.4023, -0.1368, -0.0093,\n",
            "        -0.3617,  0.4192,  0.0582, -0.3147, -0.1592,  0.1024,  0.2047, -0.0160,\n",
            "        -0.1573, -0.4982,  0.1308,  0.1649, -0.2055,  0.2579, -0.4517,  0.4852],\n",
            "       requires_grad=True)\n",
            "param: Parameter containing:\n",
            "tensor([[-0.1346, -0.0583,  0.0097,  ..., -0.1266,  0.0517, -0.1017],\n",
            "        [-0.0177, -0.0980, -0.0164,  ..., -0.0249,  0.1029, -0.1401],\n",
            "        [-0.1556, -0.0975, -0.0682,  ...,  0.1423,  0.0766,  0.0346],\n",
            "        ...,\n",
            "        [-0.1271,  0.0541, -0.1122,  ..., -0.1308,  0.0434,  0.0838],\n",
            "        [-0.1649,  0.0783,  0.0917,  ..., -0.1351, -0.1069,  0.1424],\n",
            "        [ 0.0246,  0.0929, -0.0422,  ...,  0.0554,  0.0653,  0.0003]],\n",
            "       requires_grad=True) target_param: Parameter containing:\n",
            "tensor([[ 0.1346,  0.0583, -0.0097,  ...,  0.1266, -0.0517,  0.1017],\n",
            "        [ 0.0177,  0.0980,  0.0164,  ...,  0.0249, -0.1029,  0.1401],\n",
            "        [ 0.1556,  0.0975,  0.0682,  ..., -0.1423, -0.0766, -0.0346],\n",
            "        ...,\n",
            "        [ 0.1271, -0.0541,  0.1122,  ...,  0.1308, -0.0434, -0.0838],\n",
            "        [ 0.1649, -0.0783, -0.0917,  ...,  0.1351,  0.1069, -0.1424],\n",
            "        [-0.0246, -0.0929,  0.0422,  ..., -0.0554, -0.0653, -0.0003]],\n",
            "       requires_grad=True)\n",
            "param: Parameter containing:\n",
            "tensor([ 0.0241, -0.0762, -0.1301, -0.0708, -0.0164, -0.1764,  0.0878, -0.0316,\n",
            "         0.0362,  0.1324,  0.1703,  0.1147, -0.1184,  0.1384, -0.0650, -0.0643,\n",
            "        -0.1764,  0.0816, -0.1121,  0.0338, -0.1409, -0.0323,  0.0124, -0.1200,\n",
            "         0.1653, -0.1200,  0.0811, -0.1655, -0.0165, -0.0135, -0.0745, -0.0859],\n",
            "       requires_grad=True) target_param: Parameter containing:\n",
            "tensor([-0.0241,  0.0762,  0.1301,  0.0708,  0.0164,  0.1764, -0.0878,  0.0316,\n",
            "        -0.0362, -0.1324, -0.1703, -0.1147,  0.1184, -0.1384,  0.0650,  0.0643,\n",
            "         0.1764, -0.0816,  0.1121, -0.0338,  0.1409,  0.0323, -0.0124,  0.1200,\n",
            "        -0.1653,  0.1200, -0.0811,  0.1655,  0.0165,  0.0135,  0.0745,  0.0859],\n",
            "       requires_grad=True)\n",
            "param: Parameter containing:\n",
            "tensor([[ 0.0870,  0.0975,  0.1153,  0.0764,  0.0170,  0.1003, -0.1669, -0.1610,\n",
            "          0.1458, -0.1158, -0.1007,  0.1274, -0.0440,  0.0293, -0.1563,  0.1554,\n",
            "         -0.0993,  0.0320,  0.0417, -0.1243,  0.0520,  0.0348, -0.1433, -0.0272,\n",
            "          0.0637, -0.1328, -0.0698,  0.1183, -0.0368,  0.0983, -0.0410,  0.0299]],\n",
            "       requires_grad=True) target_param: Parameter containing:\n",
            "tensor([[-0.0870, -0.0975, -0.1153, -0.0764, -0.0170, -0.1003,  0.1669,  0.1610,\n",
            "         -0.1458,  0.1158,  0.1007, -0.1274,  0.0440, -0.0293,  0.1563, -0.1554,\n",
            "          0.0993, -0.0320, -0.0417,  0.1243, -0.0520, -0.0348,  0.1433,  0.0272,\n",
            "         -0.0637,  0.1328,  0.0698, -0.1183,  0.0368, -0.0983,  0.0410, -0.0299]],\n",
            "       requires_grad=True)\n",
            "param: Parameter containing:\n",
            "tensor([0.1443], requires_grad=True) target_param: Parameter containing:\n",
            "tensor([-0.1443], requires_grad=True)\n"
          ]
        }
      ],
      "source": [
        "env = gym.make(\"Pendulum-v1\")\n",
        "agent=DDPGAgent(env,sigma=1,tau=1)\n",
        "agent.update_target_params()"
      ]
    }
  ],
  "metadata": {
    "accelerator": "GPU",
    "colab": {
      "gpuType": "T4",
      "include_colab_link": true,
      "provenance": []
    },
    "gpuClass": "standard",
    "kernelspec": {
      "display_name": "venv",
      "language": "python",
      "name": "python3"
    },
    "language_info": {
      "codemirror_mode": {
        "name": "ipython",
        "version": 3
      },
      "file_extension": ".py",
      "mimetype": "text/x-python",
      "name": "python",
      "nbconvert_exporter": "python",
      "pygments_lexer": "ipython3",
      "version": "3.9.4"
    },
    "orig_nbformat": 4
  },
  "nbformat": 4,
  "nbformat_minor": 0
}
